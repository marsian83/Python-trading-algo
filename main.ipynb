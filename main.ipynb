{
 "cells": [
  {
   "cell_type": "code",
   "execution_count": 1,
   "metadata": {},
   "outputs": [],
   "source": [
    "#Install any missing requirements \n",
    "!pip install -r requirements.txt\n",
    "!pip install nbformat --upgrade\n",
    "\n",
    "#Import all the neccessary libraries\n",
    "from IPython.display import clear_output\n",
    "import requests\n",
    "import pandas as pd\n",
    "import matplotlib.pyplot as plt\n",
    "import plotly.graph_objects as go\n",
    "from plotly.offline import init_notebook_mode, iplot\n",
    "import nbformat\n",
    "\n",
    "init_notebook_mode()         # initiate notebook for offline plot\n",
    "\n",
    "#clear_output so that the pip output is not displayed\n",
    "clear_output()"
   ]
  },
  {
   "cell_type": "code",
   "execution_count": 2,
   "metadata": {},
   "outputs": [],
   "source": [
    "# AlphaVantage API key\n",
    "API_KEY = \"QY5BJUJF9897PJBQ\""
   ]
  },
  {
   "cell_type": "code",
   "execution_count": 3,
   "metadata": {},
   "outputs": [],
   "source": [
    "# Instantiate the ScriptData class\n",
    "class ScriptData:\n",
    "    def __init__(self):\n",
    "        \"\"\"\n",
    "        Initialize an empty ScriptData object.\n",
    "        \"\"\"\n",
    "        self.api_key = API_KEY\n",
    "        self.data = {}\n",
    "        self.df = {}\n",
    "\n",
    "    def fetch_intraday_data(self, script):\n",
    "        \"\"\"\n",
    "        Fetch intraday data for the given stock ticker symbol using the AlphaVantage API.\n",
    "\n",
    "        Parameters:\n",
    "        script (str): Stock ticker symbol.\n",
    "\n",
    "        Returns:\n",
    "        None\n",
    "        \"\"\"\n",
    "        api_url = f\"https://www.alphavantage.co/query?function=TIME_SERIES_INTRADAY&symbol={script}&interval=5min&apikey={self.api_key}\"\n",
    "        response = requests.get(api_url)\n",
    "        data = response.json()\n",
    "\n",
    "        # Extract intraday data\n",
    "        intraday_data = data[\"Time Series (5min)\"]\n",
    "\n",
    "        # Store intraday data in object\n",
    "        self.data[script] = intraday_data\n",
    "\n",
    "    def convert_intraday_data(self, script):\n",
    "        \"\"\"\n",
    "        Convert the raw intraday data for the given stock ticker symbol into a Pandas DataFrame.\n",
    "\n",
    "        Parameters:\n",
    "        script (str): Stock ticker symbol.\n",
    "\n",
    "        Returns:\n",
    "        None\n",
    "        \"\"\"\n",
    "        formatted_data = {}\n",
    "        i = 0\n",
    "        # Format intraday data into dictionary\n",
    "        for timestamp, data_dict in self.data[script].items():\n",
    "            formatted_data[str(i)] = {\n",
    "                \"timestamp\": timestamp,\n",
    "                \"open\": data_dict[\"1. open\"],\n",
    "                \"high\": data_dict[\"2. high\"],\n",
    "                \"low\": data_dict[\"3. low\"],\n",
    "                \"close\": data_dict[\"4. close\"],\n",
    "                \"volume\": data_dict[\"5. volume\"]\n",
    "            }\n",
    "            i += 1\n",
    "\n",
    "        # Convert dictionary to Pandas DataFrame\n",
    "        dataframe = pd.DataFrame.from_dict(formatted_data, orient=\"index\", columns=[\n",
    "            \"timestamp\", \"open\", \"high\", \"low\", \"close\", \"volume\"])\n",
    "\n",
    "        # Store DataFrame in object\n",
    "        self.df[script] = dataframe\n",
    "\n",
    "    def __getitem__(self, key):\n",
    "        \"\"\"\n",
    "        Get the Pandas DataFrame for the given stock ticker symbol.\n",
    "\n",
    "        Parameters:\n",
    "        key (str): Stock ticker symbol.\n",
    "\n",
    "        Returns:\n",
    "        Pandas DataFrame: DataFrame containing intraday data for the given stock ticker symbol.\n",
    "        \"\"\"\n",
    "        return self.df[key]\n",
    "\n",
    "    def __setitem__(self, key, value):\n",
    "        \"\"\"\n",
    "        Set the Pandas DataFrame for the given stock ticker symbol.\n",
    "\n",
    "        Parameters:\n",
    "        key (str): Stock ticker symbol.\n",
    "        value (Pandas DataFrame): DataFrame containing intraday data for the given stock ticker symbol.\n",
    "\n",
    "        Returns:\n",
    "        None\n",
    "        \"\"\"\n",
    "        self.df[key] = value\n",
    "        \n",
    "    def __contains__(self, item):\n",
    "        \"\"\"\n",
    "        Check if the given stock ticker symbol is stored in the ScriptData object.\n",
    "\n",
    "        Parameters:\n",
    "        item (str): Stock ticker symbol.\n",
    "\n",
    "        Returns:\n",
    "        bool: True if the stock ticker symbol is stored in the ScriptData object, False otherwise.\n",
    "        \"\"\"\n",
    "        return item in self.df"
   ]
  },
  {
   "cell_type": "code",
   "execution_count": 4,
   "metadata": {},
   "outputs": [],
   "source": [
    "#Indicator1 function declaration\n",
    "def indicator1(df, timeperiod):\n",
    "    \"\"\"\n",
    "    Compute a moving average for the given time period.\n",
    "\n",
    "    Parameters:\n",
    "    df (Pandas DataFrame): DataFrame containing 'timestamp' and 'close' columns.\n",
    "    timeperiod (int): Number of periods to use in the moving average calculation.\n",
    "\n",
    "    Returns:\n",
    "    Pandas DataFrame: DataFrame containing 'timestamp' and 'indicator' columns.\n",
    "    \"\"\"\n",
    "    # Compute moving average\n",
    "    moving_avg = df['close'].rolling(timeperiod).mean()\n",
    "\n",
    "    # Create result DataFrame\n",
    "    result = pd.DataFrame({'timestamp': df['timestamp'], 'indicator': moving_avg})\n",
    "    return result"
   ]
  },
  {
   "cell_type": "code",
   "execution_count": 5,
   "metadata": {},
   "outputs": [],
   "source": [
    "# Strategy Class description\n",
    "class Strategy:\n",
    "    def __init__(self, script):\n",
    "        \"\"\"\n",
    "        Initialize a Strategy object for the given stock ticker symbol.\n",
    "\n",
    "        Parameters:\n",
    "        script (str): Stock ticker symbol.\n",
    "        \"\"\"\n",
    "        self.script = script\n",
    "        self.script_data = ScriptData()\n",
    "        self.signals = None\n",
    "\n",
    "    def get_script_data(self):\n",
    "        \"\"\"\n",
    "        Fetch and convert intraday data for the given stock ticker symbol, and store it in the Strategy object.\n",
    "\n",
    "        Returns:\n",
    "        None\n",
    "        \"\"\"\n",
    "        self.script_data.fetch_intraday_data(self.script)\n",
    "        self.script_data.convert_intraday_data(self.script)\n",
    "        self.df = self.script_data[self.script]\n",
    "\n",
    "    def compute_indicator_data(self, timeperiod):\n",
    "        \"\"\"\n",
    "        Compute indicator data for the given time period.\n",
    "\n",
    "        Parameters:\n",
    "        timeperiod (int): Number of periods to use in the indicator calculation.\n",
    "\n",
    "        Returns:\n",
    "        None\n",
    "        \"\"\"\n",
    "        self.indicator_data = indicator1(self.df, timeperiod)\n",
    "\n",
    "    def get_signals(self):\n",
    "        \"\"\"\n",
    "        Generate buy and sell signals based on the indicator data and current price.\n",
    "        \"\"\"\n",
    "        # If indicators have not been computer then compute them\n",
    "        self.compute_indicator_data(5)\n",
    "\n",
    "        self.signals = pd.DataFrame(columns=['timestamp', 'signal'])\n",
    "\n",
    "        # Iterate through each row in the DataFrame\n",
    "        for i in range(1, len(self.df)):\n",
    "            # Get current and previous indicator and price values and cast them to float and store them\n",
    "            indicator = float(self.indicator_data['indicator'][i])\n",
    "            close = float(self.df['close'][i])\n",
    "            indicator_prev = float(self.indicator_data['indicator'][i-1])\n",
    "            close_prev = float(self.df['close'][i-1])\n",
    "\n",
    "            # Generate buy and sell signals\n",
    "            if indicator > close and indicator_prev <= close_prev:  # Indicator cuts close upwards\n",
    "                # Create empty signal entry for index i with the timestamp of the current position\n",
    "                self.signals.loc[i, 'timestamp'] = self.df['timestamp'][i]\n",
    "                # Signal \"BUY\" if indicator cuts close upwards\n",
    "                self.signals.loc[i, 'signal'] = 'BUY'\n",
    "            elif indicator < close and indicator_prev >= close_prev:  # Indicator cuts close downwards\n",
    "                # Create empty signal entry for index i with the timestamp of the current position\n",
    "                self.signals.loc[i, 'timestamp'] = self.df['timestamp'][i]\n",
    "                # Signal \"BUY\" if indicator cuts close downwards\n",
    "                self.signals.loc[i, 'signal'] = 'SELL'\n",
    "            else:  # No interseection\n",
    "                # Create empty signal entry for index i with the timestamp of the current position\n",
    "                self.signals.loc[i, 'timestamp'] = self.df['timestamp'][i]\n",
    "                # Signal \"NO_SIGNAL\" if there's no intersection\n",
    "                self.signals.loc[i, 'signal'] = 'NO_SIGNAL'\n",
    "\n",
    "        # Filter out rows with no signal\n",
    "        return (self.signals[self.signals['signal'] != 'NO_SIGNAL'])\n",
    "\n",
    "    def plot_strategy(self):\n",
    "        \"\"\"\n",
    "        plots and displays a plot for history and indicators\n",
    "        \"\"\"\n",
    "\n",
    "        # Make candelstick for closing history\n",
    "        history_candlestick = go.Candlestick(\n",
    "            x=self.df['timestamp'],\n",
    "            open=self.df[\"open\"],\n",
    "            high=self.df[\"high\"],\n",
    "            low=self.df[\"low\"],\n",
    "            close=self.df[\"close\"],\n",
    "            name=\"Historical Data\"\n",
    "        )\n",
    "\n",
    "        # Make line graph for indicator data\n",
    "        indicator_line = go.Scatter(\n",
    "            x=self.indicator_data['timestamp'],\n",
    "            y=self.indicator_data['indicator'],\n",
    "            name='SMA',\n",
    "            line_color='gray'\n",
    "        )\n",
    "\n",
    "        # create a figure with the two above declared representations\n",
    "        fig = go.Figure(data=[history_candlestick, indicator_line])\n",
    "\n",
    "        # Update fig's x axs to have proper timestamp\n",
    "        fig.update_layout(\n",
    "            xaxis=go.layout.XAxis(\n",
    "                tickmode=\"array\",\n",
    "                dtick=10,\n",
    "                tickvals=self.indicator_data['timestamp'],  # actual value\n",
    "                ticktext=self.indicator_data['timestamp'],  # Display text\n",
    "                tickangle=90,\n",
    "                tickfont=dict(size=10)\n",
    "            )\n",
    "        )\n",
    "        iplot(fig)\n"
   ]
  },
  {
   "cell_type": "code",
   "execution_count": 6,
   "metadata": {},
   "outputs": [],
   "source": [
    "#Initialize ScriptData class under the name 'script_data'\n",
    "script_data = ScriptData()"
   ]
  },
  {
   "cell_type": "code",
   "execution_count": 7,
   "metadata": {},
   "outputs": [
    {
     "data": {
      "text/html": [
       "<div>\n",
       "<style scoped>\n",
       "    .dataframe tbody tr th:only-of-type {\n",
       "        vertical-align: middle;\n",
       "    }\n",
       "\n",
       "    .dataframe tbody tr th {\n",
       "        vertical-align: top;\n",
       "    }\n",
       "\n",
       "    .dataframe thead th {\n",
       "        text-align: right;\n",
       "    }\n",
       "</style>\n",
       "<table border=\"1\" class=\"dataframe\">\n",
       "  <thead>\n",
       "    <tr style=\"text-align: right;\">\n",
       "      <th></th>\n",
       "      <th>timestamp</th>\n",
       "      <th>open</th>\n",
       "      <th>high</th>\n",
       "      <th>low</th>\n",
       "      <th>close</th>\n",
       "      <th>volume</th>\n",
       "    </tr>\n",
       "  </thead>\n",
       "  <tbody>\n",
       "    <tr>\n",
       "      <th>0</th>\n",
       "      <td>2022-12-22 20:00:00</td>\n",
       "      <td>87.6000</td>\n",
       "      <td>87.6400</td>\n",
       "      <td>87.5000</td>\n",
       "      <td>87.5500</td>\n",
       "      <td>2675</td>\n",
       "    </tr>\n",
       "    <tr>\n",
       "      <th>1</th>\n",
       "      <td>2022-12-22 19:55:00</td>\n",
       "      <td>87.6000</td>\n",
       "      <td>87.6000</td>\n",
       "      <td>87.6000</td>\n",
       "      <td>87.6000</td>\n",
       "      <td>690</td>\n",
       "    </tr>\n",
       "    <tr>\n",
       "      <th>2</th>\n",
       "      <td>2022-12-22 19:50:00</td>\n",
       "      <td>87.6300</td>\n",
       "      <td>87.6300</td>\n",
       "      <td>87.6300</td>\n",
       "      <td>87.6300</td>\n",
       "      <td>504</td>\n",
       "    </tr>\n",
       "    <tr>\n",
       "      <th>3</th>\n",
       "      <td>2022-12-22 19:45:00</td>\n",
       "      <td>87.6600</td>\n",
       "      <td>87.6600</td>\n",
       "      <td>87.6600</td>\n",
       "      <td>87.6600</td>\n",
       "      <td>402</td>\n",
       "    </tr>\n",
       "    <tr>\n",
       "      <th>4</th>\n",
       "      <td>2022-12-22 19:40:00</td>\n",
       "      <td>87.6300</td>\n",
       "      <td>87.6300</td>\n",
       "      <td>87.6300</td>\n",
       "      <td>87.6300</td>\n",
       "      <td>158</td>\n",
       "    </tr>\n",
       "    <tr>\n",
       "      <th>...</th>\n",
       "      <td>...</td>\n",
       "      <td>...</td>\n",
       "      <td>...</td>\n",
       "      <td>...</td>\n",
       "      <td>...</td>\n",
       "      <td>...</td>\n",
       "    </tr>\n",
       "    <tr>\n",
       "      <th>95</th>\n",
       "      <td>2022-12-22 11:30:00</td>\n",
       "      <td>87.2650</td>\n",
       "      <td>87.3199</td>\n",
       "      <td>87.2090</td>\n",
       "      <td>87.2350</td>\n",
       "      <td>182750</td>\n",
       "    </tr>\n",
       "    <tr>\n",
       "      <th>96</th>\n",
       "      <td>2022-12-22 11:25:00</td>\n",
       "      <td>87.2650</td>\n",
       "      <td>87.3800</td>\n",
       "      <td>87.2400</td>\n",
       "      <td>87.2600</td>\n",
       "      <td>160993</td>\n",
       "    </tr>\n",
       "    <tr>\n",
       "      <th>97</th>\n",
       "      <td>2022-12-22 11:20:00</td>\n",
       "      <td>87.3400</td>\n",
       "      <td>87.4458</td>\n",
       "      <td>87.2631</td>\n",
       "      <td>87.2650</td>\n",
       "      <td>185157</td>\n",
       "    </tr>\n",
       "    <tr>\n",
       "      <th>98</th>\n",
       "      <td>2022-12-22 11:15:00</td>\n",
       "      <td>87.3800</td>\n",
       "      <td>87.4250</td>\n",
       "      <td>87.2300</td>\n",
       "      <td>87.3400</td>\n",
       "      <td>209501</td>\n",
       "    </tr>\n",
       "    <tr>\n",
       "      <th>99</th>\n",
       "      <td>2022-12-22 11:10:00</td>\n",
       "      <td>87.4650</td>\n",
       "      <td>87.5850</td>\n",
       "      <td>87.3700</td>\n",
       "      <td>87.3800</td>\n",
       "      <td>238874</td>\n",
       "    </tr>\n",
       "  </tbody>\n",
       "</table>\n",
       "<p>100 rows × 6 columns</p>\n",
       "</div>"
      ],
      "text/plain": [
       "              timestamp     open     high      low    close  volume\n",
       "0   2022-12-22 20:00:00  87.6000  87.6400  87.5000  87.5500    2675\n",
       "1   2022-12-22 19:55:00  87.6000  87.6000  87.6000  87.6000     690\n",
       "2   2022-12-22 19:50:00  87.6300  87.6300  87.6300  87.6300     504\n",
       "3   2022-12-22 19:45:00  87.6600  87.6600  87.6600  87.6600     402\n",
       "4   2022-12-22 19:40:00  87.6300  87.6300  87.6300  87.6300     158\n",
       "..                  ...      ...      ...      ...      ...     ...\n",
       "95  2022-12-22 11:30:00  87.2650  87.3199  87.2090  87.2350  182750\n",
       "96  2022-12-22 11:25:00  87.2650  87.3800  87.2400  87.2600  160993\n",
       "97  2022-12-22 11:20:00  87.3400  87.4458  87.2631  87.2650  185157\n",
       "98  2022-12-22 11:15:00  87.3800  87.4250  87.2300  87.3400  209501\n",
       "99  2022-12-22 11:10:00  87.4650  87.5850  87.3700  87.3800  238874\n",
       "\n",
       "[100 rows x 6 columns]"
      ]
     },
     "execution_count": 7,
     "metadata": {},
     "output_type": "execute_result"
    }
   ],
   "source": [
    "#fetch, convert and display script data for GOOGL\n",
    "script_data.fetch_intraday_data('GOOGL')\n",
    "script_data.convert_intraday_data('GOOGL')\n",
    "script_data['GOOGL']"
   ]
  },
  {
   "cell_type": "code",
   "execution_count": 8,
   "metadata": {},
   "outputs": [
    {
     "data": {
      "text/html": [
       "<div>\n",
       "<style scoped>\n",
       "    .dataframe tbody tr th:only-of-type {\n",
       "        vertical-align: middle;\n",
       "    }\n",
       "\n",
       "    .dataframe tbody tr th {\n",
       "        vertical-align: top;\n",
       "    }\n",
       "\n",
       "    .dataframe thead th {\n",
       "        text-align: right;\n",
       "    }\n",
       "</style>\n",
       "<table border=\"1\" class=\"dataframe\">\n",
       "  <thead>\n",
       "    <tr style=\"text-align: right;\">\n",
       "      <th></th>\n",
       "      <th>timestamp</th>\n",
       "      <th>open</th>\n",
       "      <th>high</th>\n",
       "      <th>low</th>\n",
       "      <th>close</th>\n",
       "      <th>volume</th>\n",
       "    </tr>\n",
       "  </thead>\n",
       "  <tbody>\n",
       "    <tr>\n",
       "      <th>0</th>\n",
       "      <td>2022-12-22 20:00:00</td>\n",
       "      <td>131.4000</td>\n",
       "      <td>131.4000</td>\n",
       "      <td>131.2500</td>\n",
       "      <td>131.3000</td>\n",
       "      <td>12729</td>\n",
       "    </tr>\n",
       "    <tr>\n",
       "      <th>1</th>\n",
       "      <td>2022-12-22 19:55:00</td>\n",
       "      <td>131.5400</td>\n",
       "      <td>131.5500</td>\n",
       "      <td>131.3500</td>\n",
       "      <td>131.3900</td>\n",
       "      <td>15913</td>\n",
       "    </tr>\n",
       "    <tr>\n",
       "      <th>2</th>\n",
       "      <td>2022-12-22 19:50:00</td>\n",
       "      <td>131.5400</td>\n",
       "      <td>131.5700</td>\n",
       "      <td>131.5300</td>\n",
       "      <td>131.5401</td>\n",
       "      <td>5836</td>\n",
       "    </tr>\n",
       "    <tr>\n",
       "      <th>3</th>\n",
       "      <td>2022-12-22 19:45:00</td>\n",
       "      <td>131.6100</td>\n",
       "      <td>131.6100</td>\n",
       "      <td>131.5100</td>\n",
       "      <td>131.5500</td>\n",
       "      <td>8016</td>\n",
       "    </tr>\n",
       "    <tr>\n",
       "      <th>4</th>\n",
       "      <td>2022-12-22 19:40:00</td>\n",
       "      <td>131.6500</td>\n",
       "      <td>131.7000</td>\n",
       "      <td>131.6000</td>\n",
       "      <td>131.6000</td>\n",
       "      <td>3648</td>\n",
       "    </tr>\n",
       "    <tr>\n",
       "      <th>...</th>\n",
       "      <td>...</td>\n",
       "      <td>...</td>\n",
       "      <td>...</td>\n",
       "      <td>...</td>\n",
       "      <td>...</td>\n",
       "      <td>...</td>\n",
       "    </tr>\n",
       "    <tr>\n",
       "      <th>95</th>\n",
       "      <td>2022-12-22 12:05:00</td>\n",
       "      <td>131.7010</td>\n",
       "      <td>131.7750</td>\n",
       "      <td>131.5401</td>\n",
       "      <td>131.5800</td>\n",
       "      <td>1171454</td>\n",
       "    </tr>\n",
       "    <tr>\n",
       "      <th>96</th>\n",
       "      <td>2022-12-22 12:00:00</td>\n",
       "      <td>131.5200</td>\n",
       "      <td>131.7600</td>\n",
       "      <td>131.4300</td>\n",
       "      <td>131.7050</td>\n",
       "      <td>568220</td>\n",
       "    </tr>\n",
       "    <tr>\n",
       "      <th>97</th>\n",
       "      <td>2022-12-22 11:55:00</td>\n",
       "      <td>131.2500</td>\n",
       "      <td>131.5200</td>\n",
       "      <td>131.2100</td>\n",
       "      <td>131.5101</td>\n",
       "      <td>547869</td>\n",
       "    </tr>\n",
       "    <tr>\n",
       "      <th>98</th>\n",
       "      <td>2022-12-22 11:50:00</td>\n",
       "      <td>131.2800</td>\n",
       "      <td>131.3101</td>\n",
       "      <td>131.0501</td>\n",
       "      <td>131.2584</td>\n",
       "      <td>740969</td>\n",
       "    </tr>\n",
       "    <tr>\n",
       "      <th>99</th>\n",
       "      <td>2022-12-22 11:45:00</td>\n",
       "      <td>131.5199</td>\n",
       "      <td>131.5199</td>\n",
       "      <td>131.2700</td>\n",
       "      <td>131.2750</td>\n",
       "      <td>666212</td>\n",
       "    </tr>\n",
       "  </tbody>\n",
       "</table>\n",
       "<p>100 rows × 6 columns</p>\n",
       "</div>"
      ],
      "text/plain": [
       "              timestamp      open      high       low     close   volume\n",
       "0   2022-12-22 20:00:00  131.4000  131.4000  131.2500  131.3000    12729\n",
       "1   2022-12-22 19:55:00  131.5400  131.5500  131.3500  131.3900    15913\n",
       "2   2022-12-22 19:50:00  131.5400  131.5700  131.5300  131.5401     5836\n",
       "3   2022-12-22 19:45:00  131.6100  131.6100  131.5100  131.5500     8016\n",
       "4   2022-12-22 19:40:00  131.6500  131.7000  131.6000  131.6000     3648\n",
       "..                  ...       ...       ...       ...       ...      ...\n",
       "95  2022-12-22 12:05:00  131.7010  131.7750  131.5401  131.5800  1171454\n",
       "96  2022-12-22 12:00:00  131.5200  131.7600  131.4300  131.7050   568220\n",
       "97  2022-12-22 11:55:00  131.2500  131.5200  131.2100  131.5101   547869\n",
       "98  2022-12-22 11:50:00  131.2800  131.3101  131.0501  131.2584   740969\n",
       "99  2022-12-22 11:45:00  131.5199  131.5199  131.2700  131.2750   666212\n",
       "\n",
       "[100 rows x 6 columns]"
      ]
     },
     "execution_count": 8,
     "metadata": {},
     "output_type": "execute_result"
    }
   ],
   "source": [
    "#fetch, convert and display script data for AAPL\n",
    "script_data.fetch_intraday_data('AAPL')\n",
    "script_data.convert_intraday_data('AAPL')\n",
    "script_data['AAPL']"
   ]
  },
  {
   "cell_type": "code",
   "execution_count": 9,
   "metadata": {},
   "outputs": [
    {
     "data": {
      "text/plain": [
       "True"
      ]
     },
     "execution_count": 9,
     "metadata": {},
     "output_type": "execute_result"
    }
   ],
   "source": [
    "#check if data for \"GOOGL\" exist for the script_data instance\n",
    "'GOOGL' in script_data"
   ]
  },
  {
   "cell_type": "code",
   "execution_count": 10,
   "metadata": {},
   "outputs": [
    {
     "data": {
      "text/plain": [
       "True"
      ]
     },
     "execution_count": 10,
     "metadata": {},
     "output_type": "execute_result"
    }
   ],
   "source": [
    "#check if data for \"AAPL\" exist for the script_data instance\n",
    "'AAPL' in script_data"
   ]
  },
  {
   "cell_type": "code",
   "execution_count": 11,
   "metadata": {},
   "outputs": [
    {
     "data": {
      "text/plain": [
       "False"
      ]
     },
     "execution_count": 11,
     "metadata": {},
     "output_type": "execute_result"
    }
   ],
   "source": [
    "#check if data for \"NVDA\" exist for the script_data instance\n",
    "'NVDA' in script_data"
   ]
  },
  {
   "cell_type": "code",
   "execution_count": 12,
   "metadata": {},
   "outputs": [
    {
     "data": {
      "text/html": [
       "<div>\n",
       "<style scoped>\n",
       "    .dataframe tbody tr th:only-of-type {\n",
       "        vertical-align: middle;\n",
       "    }\n",
       "\n",
       "    .dataframe tbody tr th {\n",
       "        vertical-align: top;\n",
       "    }\n",
       "\n",
       "    .dataframe thead th {\n",
       "        text-align: right;\n",
       "    }\n",
       "</style>\n",
       "<table border=\"1\" class=\"dataframe\">\n",
       "  <thead>\n",
       "    <tr style=\"text-align: right;\">\n",
       "      <th></th>\n",
       "      <th>timestamp</th>\n",
       "      <th>indicator</th>\n",
       "    </tr>\n",
       "  </thead>\n",
       "  <tbody>\n",
       "    <tr>\n",
       "      <th>0</th>\n",
       "      <td>2022-12-22 20:00:00</td>\n",
       "      <td>NaN</td>\n",
       "    </tr>\n",
       "    <tr>\n",
       "      <th>1</th>\n",
       "      <td>2022-12-22 19:55:00</td>\n",
       "      <td>NaN</td>\n",
       "    </tr>\n",
       "    <tr>\n",
       "      <th>2</th>\n",
       "      <td>2022-12-22 19:50:00</td>\n",
       "      <td>NaN</td>\n",
       "    </tr>\n",
       "    <tr>\n",
       "      <th>3</th>\n",
       "      <td>2022-12-22 19:45:00</td>\n",
       "      <td>NaN</td>\n",
       "    </tr>\n",
       "    <tr>\n",
       "      <th>4</th>\n",
       "      <td>2022-12-22 19:40:00</td>\n",
       "      <td>87.61400</td>\n",
       "    </tr>\n",
       "    <tr>\n",
       "      <th>...</th>\n",
       "      <td>...</td>\n",
       "      <td>...</td>\n",
       "    </tr>\n",
       "    <tr>\n",
       "      <th>95</th>\n",
       "      <td>2022-12-22 11:30:00</td>\n",
       "      <td>87.19386</td>\n",
       "    </tr>\n",
       "    <tr>\n",
       "      <th>96</th>\n",
       "      <td>2022-12-22 11:25:00</td>\n",
       "      <td>87.21786</td>\n",
       "    </tr>\n",
       "    <tr>\n",
       "      <th>97</th>\n",
       "      <td>2022-12-22 11:20:00</td>\n",
       "      <td>87.23250</td>\n",
       "    </tr>\n",
       "    <tr>\n",
       "      <th>98</th>\n",
       "      <td>2022-12-22 11:15:00</td>\n",
       "      <td>87.25050</td>\n",
       "    </tr>\n",
       "    <tr>\n",
       "      <th>99</th>\n",
       "      <td>2022-12-22 11:10:00</td>\n",
       "      <td>87.29600</td>\n",
       "    </tr>\n",
       "  </tbody>\n",
       "</table>\n",
       "<p>100 rows × 2 columns</p>\n",
       "</div>"
      ],
      "text/plain": [
       "              timestamp  indicator\n",
       "0   2022-12-22 20:00:00        NaN\n",
       "1   2022-12-22 19:55:00        NaN\n",
       "2   2022-12-22 19:50:00        NaN\n",
       "3   2022-12-22 19:45:00        NaN\n",
       "4   2022-12-22 19:40:00   87.61400\n",
       "..                  ...        ...\n",
       "95  2022-12-22 11:30:00   87.19386\n",
       "96  2022-12-22 11:25:00   87.21786\n",
       "97  2022-12-22 11:20:00   87.23250\n",
       "98  2022-12-22 11:15:00   87.25050\n",
       "99  2022-12-22 11:10:00   87.29600\n",
       "\n",
       "[100 rows x 2 columns]"
      ]
     },
     "execution_count": 12,
     "metadata": {},
     "output_type": "execute_result"
    }
   ],
   "source": [
    "#Get indicators for \"GOOGL\" with timeperiod of 5\n",
    "indicator1(script_data['GOOGL'], timeperiod=5)"
   ]
  },
  {
   "cell_type": "code",
   "execution_count": 13,
   "metadata": {},
   "outputs": [
    {
     "data": {
      "text/html": [
       "<div>\n",
       "<style scoped>\n",
       "    .dataframe tbody tr th:only-of-type {\n",
       "        vertical-align: middle;\n",
       "    }\n",
       "\n",
       "    .dataframe tbody tr th {\n",
       "        vertical-align: top;\n",
       "    }\n",
       "\n",
       "    .dataframe thead th {\n",
       "        text-align: right;\n",
       "    }\n",
       "</style>\n",
       "<table border=\"1\" class=\"dataframe\">\n",
       "  <thead>\n",
       "    <tr style=\"text-align: right;\">\n",
       "      <th></th>\n",
       "      <th>timestamp</th>\n",
       "      <th>indicator</th>\n",
       "    </tr>\n",
       "  </thead>\n",
       "  <tbody>\n",
       "    <tr>\n",
       "      <th>0</th>\n",
       "      <td>2022-12-22 20:00:00</td>\n",
       "      <td>NaN</td>\n",
       "    </tr>\n",
       "    <tr>\n",
       "      <th>1</th>\n",
       "      <td>2022-12-22 19:55:00</td>\n",
       "      <td>NaN</td>\n",
       "    </tr>\n",
       "    <tr>\n",
       "      <th>2</th>\n",
       "      <td>2022-12-22 19:50:00</td>\n",
       "      <td>NaN</td>\n",
       "    </tr>\n",
       "    <tr>\n",
       "      <th>3</th>\n",
       "      <td>2022-12-22 19:45:00</td>\n",
       "      <td>NaN</td>\n",
       "    </tr>\n",
       "    <tr>\n",
       "      <th>4</th>\n",
       "      <td>2022-12-22 19:40:00</td>\n",
       "      <td>131.47602</td>\n",
       "    </tr>\n",
       "    <tr>\n",
       "      <th>...</th>\n",
       "      <td>...</td>\n",
       "      <td>...</td>\n",
       "    </tr>\n",
       "    <tr>\n",
       "      <th>95</th>\n",
       "      <td>2022-12-22 12:05:00</td>\n",
       "      <td>131.47036</td>\n",
       "    </tr>\n",
       "    <tr>\n",
       "      <th>96</th>\n",
       "      <td>2022-12-22 12:00:00</td>\n",
       "      <td>131.59926</td>\n",
       "    </tr>\n",
       "    <tr>\n",
       "      <th>97</th>\n",
       "      <td>2022-12-22 11:55:00</td>\n",
       "      <td>131.59764</td>\n",
       "    </tr>\n",
       "    <tr>\n",
       "      <th>98</th>\n",
       "      <td>2022-12-22 11:50:00</td>\n",
       "      <td>131.54832</td>\n",
       "    </tr>\n",
       "    <tr>\n",
       "      <th>99</th>\n",
       "      <td>2022-12-22 11:45:00</td>\n",
       "      <td>131.46570</td>\n",
       "    </tr>\n",
       "  </tbody>\n",
       "</table>\n",
       "<p>100 rows × 2 columns</p>\n",
       "</div>"
      ],
      "text/plain": [
       "              timestamp  indicator\n",
       "0   2022-12-22 20:00:00        NaN\n",
       "1   2022-12-22 19:55:00        NaN\n",
       "2   2022-12-22 19:50:00        NaN\n",
       "3   2022-12-22 19:45:00        NaN\n",
       "4   2022-12-22 19:40:00  131.47602\n",
       "..                  ...        ...\n",
       "95  2022-12-22 12:05:00  131.47036\n",
       "96  2022-12-22 12:00:00  131.59926\n",
       "97  2022-12-22 11:55:00  131.59764\n",
       "98  2022-12-22 11:50:00  131.54832\n",
       "99  2022-12-22 11:45:00  131.46570\n",
       "\n",
       "[100 rows x 2 columns]"
      ]
     },
     "execution_count": 13,
     "metadata": {},
     "output_type": "execute_result"
    }
   ],
   "source": [
    "#Get indicators for \"AAPL\" with timeperiod of 5\n",
    "indicator1(script_data['AAPL'], timeperiod=5)"
   ]
  },
  {
   "cell_type": "code",
   "execution_count": 14,
   "metadata": {},
   "outputs": [
    {
     "data": {
      "text/html": [
       "<div>\n",
       "<style scoped>\n",
       "    .dataframe tbody tr th:only-of-type {\n",
       "        vertical-align: middle;\n",
       "    }\n",
       "\n",
       "    .dataframe tbody tr th {\n",
       "        vertical-align: top;\n",
       "    }\n",
       "\n",
       "    .dataframe thead th {\n",
       "        text-align: right;\n",
       "    }\n",
       "</style>\n",
       "<table border=\"1\" class=\"dataframe\">\n",
       "  <thead>\n",
       "    <tr style=\"text-align: right;\">\n",
       "      <th></th>\n",
       "      <th>timestamp</th>\n",
       "      <th>signal</th>\n",
       "    </tr>\n",
       "  </thead>\n",
       "  <tbody>\n",
       "    <tr>\n",
       "      <th>12</th>\n",
       "      <td>2022-12-22 18:55:00</td>\n",
       "      <td>BUY</td>\n",
       "    </tr>\n",
       "    <tr>\n",
       "      <th>13</th>\n",
       "      <td>2022-12-22 18:50:00</td>\n",
       "      <td>SELL</td>\n",
       "    </tr>\n",
       "    <tr>\n",
       "      <th>15</th>\n",
       "      <td>2022-12-22 18:40:00</td>\n",
       "      <td>BUY</td>\n",
       "    </tr>\n",
       "    <tr>\n",
       "      <th>17</th>\n",
       "      <td>2022-12-22 18:30:00</td>\n",
       "      <td>SELL</td>\n",
       "    </tr>\n",
       "    <tr>\n",
       "      <th>23</th>\n",
       "      <td>2022-12-22 18:00:00</td>\n",
       "      <td>BUY</td>\n",
       "    </tr>\n",
       "    <tr>\n",
       "      <th>24</th>\n",
       "      <td>2022-12-22 17:55:00</td>\n",
       "      <td>SELL</td>\n",
       "    </tr>\n",
       "    <tr>\n",
       "      <th>26</th>\n",
       "      <td>2022-12-22 17:45:00</td>\n",
       "      <td>BUY</td>\n",
       "    </tr>\n",
       "    <tr>\n",
       "      <th>32</th>\n",
       "      <td>2022-12-22 17:15:00</td>\n",
       "      <td>SELL</td>\n",
       "    </tr>\n",
       "    <tr>\n",
       "      <th>33</th>\n",
       "      <td>2022-12-22 17:10:00</td>\n",
       "      <td>BUY</td>\n",
       "    </tr>\n",
       "    <tr>\n",
       "      <th>35</th>\n",
       "      <td>2022-12-22 17:00:00</td>\n",
       "      <td>SELL</td>\n",
       "    </tr>\n",
       "    <tr>\n",
       "      <th>38</th>\n",
       "      <td>2022-12-22 16:45:00</td>\n",
       "      <td>BUY</td>\n",
       "    </tr>\n",
       "    <tr>\n",
       "      <th>43</th>\n",
       "      <td>2022-12-22 16:20:00</td>\n",
       "      <td>SELL</td>\n",
       "    </tr>\n",
       "    <tr>\n",
       "      <th>49</th>\n",
       "      <td>2022-12-22 15:50:00</td>\n",
       "      <td>BUY</td>\n",
       "    </tr>\n",
       "    <tr>\n",
       "      <th>53</th>\n",
       "      <td>2022-12-22 15:30:00</td>\n",
       "      <td>SELL</td>\n",
       "    </tr>\n",
       "    <tr>\n",
       "      <th>56</th>\n",
       "      <td>2022-12-22 15:15:00</td>\n",
       "      <td>BUY</td>\n",
       "    </tr>\n",
       "    <tr>\n",
       "      <th>65</th>\n",
       "      <td>2022-12-22 14:30:00</td>\n",
       "      <td>SELL</td>\n",
       "    </tr>\n",
       "    <tr>\n",
       "      <th>67</th>\n",
       "      <td>2022-12-22 14:20:00</td>\n",
       "      <td>BUY</td>\n",
       "    </tr>\n",
       "    <tr>\n",
       "      <th>68</th>\n",
       "      <td>2022-12-22 14:15:00</td>\n",
       "      <td>SELL</td>\n",
       "    </tr>\n",
       "    <tr>\n",
       "      <th>69</th>\n",
       "      <td>2022-12-22 14:10:00</td>\n",
       "      <td>BUY</td>\n",
       "    </tr>\n",
       "    <tr>\n",
       "      <th>74</th>\n",
       "      <td>2022-12-22 13:45:00</td>\n",
       "      <td>SELL</td>\n",
       "    </tr>\n",
       "    <tr>\n",
       "      <th>76</th>\n",
       "      <td>2022-12-22 13:35:00</td>\n",
       "      <td>BUY</td>\n",
       "    </tr>\n",
       "    <tr>\n",
       "      <th>80</th>\n",
       "      <td>2022-12-22 13:15:00</td>\n",
       "      <td>SELL</td>\n",
       "    </tr>\n",
       "    <tr>\n",
       "      <th>86</th>\n",
       "      <td>2022-12-22 12:45:00</td>\n",
       "      <td>BUY</td>\n",
       "    </tr>\n",
       "    <tr>\n",
       "      <th>90</th>\n",
       "      <td>2022-12-22 12:25:00</td>\n",
       "      <td>SELL</td>\n",
       "    </tr>\n",
       "  </tbody>\n",
       "</table>\n",
       "</div>"
      ],
      "text/plain": [
       "              timestamp signal\n",
       "12  2022-12-22 18:55:00    BUY\n",
       "13  2022-12-22 18:50:00   SELL\n",
       "15  2022-12-22 18:40:00    BUY\n",
       "17  2022-12-22 18:30:00   SELL\n",
       "23  2022-12-22 18:00:00    BUY\n",
       "24  2022-12-22 17:55:00   SELL\n",
       "26  2022-12-22 17:45:00    BUY\n",
       "32  2022-12-22 17:15:00   SELL\n",
       "33  2022-12-22 17:10:00    BUY\n",
       "35  2022-12-22 17:00:00   SELL\n",
       "38  2022-12-22 16:45:00    BUY\n",
       "43  2022-12-22 16:20:00   SELL\n",
       "49  2022-12-22 15:50:00    BUY\n",
       "53  2022-12-22 15:30:00   SELL\n",
       "56  2022-12-22 15:15:00    BUY\n",
       "65  2022-12-22 14:30:00   SELL\n",
       "67  2022-12-22 14:20:00    BUY\n",
       "68  2022-12-22 14:15:00   SELL\n",
       "69  2022-12-22 14:10:00    BUY\n",
       "74  2022-12-22 13:45:00   SELL\n",
       "76  2022-12-22 13:35:00    BUY\n",
       "80  2022-12-22 13:15:00   SELL\n",
       "86  2022-12-22 12:45:00    BUY\n",
       "90  2022-12-22 12:25:00   SELL"
      ]
     },
     "execution_count": 14,
     "metadata": {},
     "output_type": "execute_result"
    }
   ],
   "source": [
    "#use Strategy class and show signals for \"NVDA\"\n",
    "strategy=Strategy('NVDA')\n",
    "strategy.get_script_data()\n",
    "strategy.get_signals()"
   ]
  },
  {
   "cell_type": "code",
   "execution_count": 15,
   "metadata": {},
   "outputs": [
    {
     "data": {
      "application/vnd.plotly.v1+json": {
       "config": {
        "linkText": "Export to plot.ly",
        "plotlyServerURL": "https://plot.ly",
        "showLink": false
       },
       "data": [
        {
         "close": [
          "151.6600",
          "152.1000",
          "152.3200",
          "152.3200",
          "152.4900",
          "152.4000",
          "152.8500",
          "152.8800",
          "152.9000",
          "152.9500",
          "153.0000",
          "153.0000",
          "152.9000",
          "153.0000",
          "153.0000",
          "152.9600",
          "152.9501",
          "153.1000",
          "153.2000",
          "153.2000",
          "153.2000",
          "153.2900",
          "153.3500",
          "153.2500",
          "153.3000",
          "153.3500",
          "153.3000",
          "153.1600",
          "153.1300",
          "153.0500",
          "153.0001",
          "153.0001",
          "153.1300",
          "153.0000",
          "152.9300",
          "153.0400",
          "153.0300",
          "153.0300",
          "152.9900",
          "152.9900",
          "153.0000",
          "152.8600",
          "152.9300",
          "153.0500",
          "153.0000",
          "153.3200",
          "153.4400",
          "153.4000",
          "153.7800",
          "153.4300",
          "153.2400",
          "153.2200",
          "153.1100",
          "153.4400",
          "153.6200",
          "153.5172",
          "152.5299",
          "152.1600",
          "151.4900",
          "151.4500",
          "151.2000",
          "150.5843",
          "150.3800",
          "150.3350",
          "150.5900",
          "150.6501",
          "150.5500",
          "150.4100",
          "150.9100",
          "150.2600",
          "150.0884",
          "149.9731",
          "150.0600",
          "149.8851",
          "150.2550",
          "150.3200",
          "149.5900",
          "149.2600",
          "149.0904",
          "149.3300",
          "149.4300",
          "149.7300",
          "149.5300",
          "150.6300",
          "150.7300",
          "150.2300",
          "149.6787",
          "149.4450",
          "149.6200",
          "149.4800",
          "149.8100",
          "150.7900",
          "150.8004",
          "150.8300",
          "150.7599",
          "150.8300",
          "151.5900",
          "151.5800",
          "151.6972",
          "151.9000"
         ],
         "high": [
          "152.0000",
          "152.3100",
          "152.4000",
          "152.3500",
          "152.4900",
          "152.8400",
          "152.8800",
          "152.9999",
          "152.9500",
          "153.0500",
          "153.0000",
          "153.0000",
          "152.9100",
          "153.0000",
          "153.0000",
          "152.9600",
          "153.1300",
          "153.1000",
          "153.2000",
          "153.2000",
          "153.2800",
          "153.2900",
          "153.3500",
          "153.3100",
          "153.3900",
          "153.3500",
          "153.3000",
          "153.1600",
          "153.1700",
          "153.0500",
          "153.0001",
          "153.1000",
          "153.3900",
          "153.0000",
          "153.0100",
          "153.0400",
          "153.0912",
          "153.1000",
          "152.9900",
          "153.1000",
          "153.0000",
          "152.9000",
          "153.0500",
          "153.1437",
          "153.4000",
          "153.4900",
          "153.6600",
          "153.8100",
          "154.3499",
          "153.4600",
          "153.4200",
          "153.3800",
          "153.7200",
          "153.7800",
          "154.2300",
          "153.5355",
          "152.5800",
          "152.2400",
          "151.7100",
          "151.5496",
          "151.2150",
          "150.6500",
          "150.5437",
          "150.7300",
          "150.8700",
          "150.8200",
          "150.5700",
          "150.8900",
          "150.9800",
          "150.4699",
          "150.1800",
          "150.1300",
          "150.1980",
          "150.2544",
          "150.3600",
          "150.3700",
          "149.6500",
          "149.4500",
          "149.3600",
          "149.5300",
          "149.9260",
          "149.8300",
          "150.6300",
          "150.8700",
          "150.7752",
          "150.2700",
          "149.7600",
          "149.7800",
          "149.7200",
          "149.8900",
          "150.9200",
          "151.1200",
          "151.0400",
          "150.9700",
          "151.3200",
          "151.5400",
          "151.7500",
          "151.7999",
          "151.9000",
          "152.2200"
         ],
         "low": [
          "151.6600",
          "152.0100",
          "152.3100",
          "152.2800",
          "152.3000",
          "152.4000",
          "152.8400",
          "152.8600",
          "152.9000",
          "152.9500",
          "153.0000",
          "152.9001",
          "152.9000",
          "153.0000",
          "153.0000",
          "152.9600",
          "152.9501",
          "153.1000",
          "153.1000",
          "153.1200",
          "153.1800",
          "153.0600",
          "153.1000",
          "153.2500",
          "153.3000",
          "153.2800",
          "153.1700",
          "153.1200",
          "152.9500",
          "152.9200",
          "153.0000",
          "153.0000",
          "152.9600",
          "152.9500",
          "152.9300",
          "153.0300",
          "153.0100",
          "152.9800",
          "152.9200",
          "152.9900",
          "152.8600",
          "150.6300",
          "152.8900",
          "152.9300",
          "153.0000",
          "153.3000",
          "153.3900",
          "153.0830",
          "153.4550",
          "152.9900",
          "152.9401",
          "152.9200",
          "153.0400",
          "153.2180",
          "153.4700",
          "152.4510",
          "152.0900",
          "151.3050",
          "151.1700",
          "151.0100",
          "150.3800",
          "150.2300",
          "150.1600",
          "150.1300",
          "150.4334",
          "150.2600",
          "150.0500",
          "150.3400",
          "150.2400",
          "150.0200",
          "149.8100",
          "149.5800",
          "149.7900",
          "149.7200",
          "149.9700",
          "149.5400",
          "148.9900",
          "149.0444",
          "148.8200",
          "149.0800",
          "149.4100",
          "149.3282",
          "149.5200",
          "150.3400",
          "150.1000",
          "149.7000",
          "149.3200",
          "149.1400",
          "149.3800",
          "149.2300",
          "149.8002",
          "150.7734",
          "150.7500",
          "150.5000",
          "150.7200",
          "150.5600",
          "151.3400",
          "151.1600",
          "151.4600",
          "151.8000"
         ],
         "name": "Historical Data",
         "open": [
          "152.0000",
          "152.3100",
          "152.4000",
          "152.3500",
          "152.4000",
          "152.8400",
          "152.8800",
          "152.8600",
          "152.9500",
          "153.0500",
          "153.0000",
          "152.9001",
          "152.9100",
          "153.0000",
          "153.0000",
          "152.9600",
          "153.1300",
          "153.1000",
          "153.1000",
          "153.2000",
          "153.1800",
          "153.0600",
          "153.2000",
          "153.2960",
          "153.3487",
          "153.3000",
          "153.1700",
          "153.1300",
          "152.9500",
          "152.9401",
          "153.0000",
          "153.0060",
          "152.9600",
          "152.9500",
          "153.0000",
          "153.0300",
          "153.0100",
          "152.9800",
          "152.9200",
          "153.1000",
          "152.8600",
          "152.9000",
          "153.0500",
          "153.0100",
          "153.3200",
          "153.4200",
          "153.3900",
          "153.8100",
          "153.4550",
          "153.2500",
          "153.2100",
          "153.1100",
          "153.4300",
          "153.6537",
          "153.5100",
          "152.5200",
          "152.1700",
          "151.4924",
          "151.4500",
          "151.1999",
          "150.6000",
          "150.4000",
          "150.3300",
          "150.6100",
          "150.6500",
          "150.5600",
          "150.4100",
          "150.8800",
          "150.2700",
          "150.0850",
          "149.9900",
          "150.0500",
          "149.8800",
          "150.2400",
          "150.3249",
          "149.6000",
          "149.2500",
          "149.1200",
          "149.3100",
          "149.4200",
          "149.7400",
          "149.5200",
          "150.6150",
          "150.7200",
          "150.2300",
          "149.7000",
          "149.4401",
          "149.6200",
          "149.4700",
          "149.8008",
          "150.7909",
          "150.8000",
          "150.8200",
          "150.7514",
          "150.8100",
          "151.5400",
          "151.5800",
          "151.6793",
          "151.8919",
          "151.9900"
         ],
         "type": "candlestick",
         "x": [
          "2022-12-22 20:00:00",
          "2022-12-22 19:55:00",
          "2022-12-22 19:50:00",
          "2022-12-22 19:45:00",
          "2022-12-22 19:40:00",
          "2022-12-22 19:35:00",
          "2022-12-22 19:30:00",
          "2022-12-22 19:25:00",
          "2022-12-22 19:20:00",
          "2022-12-22 19:15:00",
          "2022-12-22 19:05:00",
          "2022-12-22 19:00:00",
          "2022-12-22 18:55:00",
          "2022-12-22 18:50:00",
          "2022-12-22 18:45:00",
          "2022-12-22 18:40:00",
          "2022-12-22 18:35:00",
          "2022-12-22 18:30:00",
          "2022-12-22 18:25:00",
          "2022-12-22 18:20:00",
          "2022-12-22 18:15:00",
          "2022-12-22 18:10:00",
          "2022-12-22 18:05:00",
          "2022-12-22 18:00:00",
          "2022-12-22 17:55:00",
          "2022-12-22 17:50:00",
          "2022-12-22 17:45:00",
          "2022-12-22 17:40:00",
          "2022-12-22 17:35:00",
          "2022-12-22 17:30:00",
          "2022-12-22 17:25:00",
          "2022-12-22 17:20:00",
          "2022-12-22 17:15:00",
          "2022-12-22 17:10:00",
          "2022-12-22 17:05:00",
          "2022-12-22 17:00:00",
          "2022-12-22 16:55:00",
          "2022-12-22 16:50:00",
          "2022-12-22 16:45:00",
          "2022-12-22 16:40:00",
          "2022-12-22 16:35:00",
          "2022-12-22 16:30:00",
          "2022-12-22 16:25:00",
          "2022-12-22 16:20:00",
          "2022-12-22 16:15:00",
          "2022-12-22 16:10:00",
          "2022-12-22 16:05:00",
          "2022-12-22 16:00:00",
          "2022-12-22 15:55:00",
          "2022-12-22 15:50:00",
          "2022-12-22 15:45:00",
          "2022-12-22 15:40:00",
          "2022-12-22 15:35:00",
          "2022-12-22 15:30:00",
          "2022-12-22 15:25:00",
          "2022-12-22 15:20:00",
          "2022-12-22 15:15:00",
          "2022-12-22 15:10:00",
          "2022-12-22 15:05:00",
          "2022-12-22 15:00:00",
          "2022-12-22 14:55:00",
          "2022-12-22 14:50:00",
          "2022-12-22 14:45:00",
          "2022-12-22 14:40:00",
          "2022-12-22 14:35:00",
          "2022-12-22 14:30:00",
          "2022-12-22 14:25:00",
          "2022-12-22 14:20:00",
          "2022-12-22 14:15:00",
          "2022-12-22 14:10:00",
          "2022-12-22 14:05:00",
          "2022-12-22 14:00:00",
          "2022-12-22 13:55:00",
          "2022-12-22 13:50:00",
          "2022-12-22 13:45:00",
          "2022-12-22 13:40:00",
          "2022-12-22 13:35:00",
          "2022-12-22 13:30:00",
          "2022-12-22 13:25:00",
          "2022-12-22 13:20:00",
          "2022-12-22 13:15:00",
          "2022-12-22 13:10:00",
          "2022-12-22 13:05:00",
          "2022-12-22 13:00:00",
          "2022-12-22 12:55:00",
          "2022-12-22 12:50:00",
          "2022-12-22 12:45:00",
          "2022-12-22 12:40:00",
          "2022-12-22 12:35:00",
          "2022-12-22 12:30:00",
          "2022-12-22 12:25:00",
          "2022-12-22 12:20:00",
          "2022-12-22 12:15:00",
          "2022-12-22 12:10:00",
          "2022-12-22 12:05:00",
          "2022-12-22 12:00:00",
          "2022-12-22 11:55:00",
          "2022-12-22 11:50:00",
          "2022-12-22 11:45:00",
          "2022-12-22 11:40:00"
         ]
        },
        {
         "line": {
          "color": "gray"
         },
         "name": "SMA",
         "type": "scatter",
         "x": [
          "2022-12-22 20:00:00",
          "2022-12-22 19:55:00",
          "2022-12-22 19:50:00",
          "2022-12-22 19:45:00",
          "2022-12-22 19:40:00",
          "2022-12-22 19:35:00",
          "2022-12-22 19:30:00",
          "2022-12-22 19:25:00",
          "2022-12-22 19:20:00",
          "2022-12-22 19:15:00",
          "2022-12-22 19:05:00",
          "2022-12-22 19:00:00",
          "2022-12-22 18:55:00",
          "2022-12-22 18:50:00",
          "2022-12-22 18:45:00",
          "2022-12-22 18:40:00",
          "2022-12-22 18:35:00",
          "2022-12-22 18:30:00",
          "2022-12-22 18:25:00",
          "2022-12-22 18:20:00",
          "2022-12-22 18:15:00",
          "2022-12-22 18:10:00",
          "2022-12-22 18:05:00",
          "2022-12-22 18:00:00",
          "2022-12-22 17:55:00",
          "2022-12-22 17:50:00",
          "2022-12-22 17:45:00",
          "2022-12-22 17:40:00",
          "2022-12-22 17:35:00",
          "2022-12-22 17:30:00",
          "2022-12-22 17:25:00",
          "2022-12-22 17:20:00",
          "2022-12-22 17:15:00",
          "2022-12-22 17:10:00",
          "2022-12-22 17:05:00",
          "2022-12-22 17:00:00",
          "2022-12-22 16:55:00",
          "2022-12-22 16:50:00",
          "2022-12-22 16:45:00",
          "2022-12-22 16:40:00",
          "2022-12-22 16:35:00",
          "2022-12-22 16:30:00",
          "2022-12-22 16:25:00",
          "2022-12-22 16:20:00",
          "2022-12-22 16:15:00",
          "2022-12-22 16:10:00",
          "2022-12-22 16:05:00",
          "2022-12-22 16:00:00",
          "2022-12-22 15:55:00",
          "2022-12-22 15:50:00",
          "2022-12-22 15:45:00",
          "2022-12-22 15:40:00",
          "2022-12-22 15:35:00",
          "2022-12-22 15:30:00",
          "2022-12-22 15:25:00",
          "2022-12-22 15:20:00",
          "2022-12-22 15:15:00",
          "2022-12-22 15:10:00",
          "2022-12-22 15:05:00",
          "2022-12-22 15:00:00",
          "2022-12-22 14:55:00",
          "2022-12-22 14:50:00",
          "2022-12-22 14:45:00",
          "2022-12-22 14:40:00",
          "2022-12-22 14:35:00",
          "2022-12-22 14:30:00",
          "2022-12-22 14:25:00",
          "2022-12-22 14:20:00",
          "2022-12-22 14:15:00",
          "2022-12-22 14:10:00",
          "2022-12-22 14:05:00",
          "2022-12-22 14:00:00",
          "2022-12-22 13:55:00",
          "2022-12-22 13:50:00",
          "2022-12-22 13:45:00",
          "2022-12-22 13:40:00",
          "2022-12-22 13:35:00",
          "2022-12-22 13:30:00",
          "2022-12-22 13:25:00",
          "2022-12-22 13:20:00",
          "2022-12-22 13:15:00",
          "2022-12-22 13:10:00",
          "2022-12-22 13:05:00",
          "2022-12-22 13:00:00",
          "2022-12-22 12:55:00",
          "2022-12-22 12:50:00",
          "2022-12-22 12:45:00",
          "2022-12-22 12:40:00",
          "2022-12-22 12:35:00",
          "2022-12-22 12:30:00",
          "2022-12-22 12:25:00",
          "2022-12-22 12:20:00",
          "2022-12-22 12:15:00",
          "2022-12-22 12:10:00",
          "2022-12-22 12:05:00",
          "2022-12-22 12:00:00",
          "2022-12-22 11:55:00",
          "2022-12-22 11:50:00",
          "2022-12-22 11:45:00",
          "2022-12-22 11:40:00"
         ],
         "y": [
          null,
          null,
          null,
          null,
          152.178,
          152.326,
          152.476,
          152.588,
          152.704,
          152.796,
          152.916,
          152.946,
          152.95,
          152.97,
          152.98,
          152.972,
          152.96202,
          153.00202,
          153.04202,
          153.08202,
          153.13002,
          153.198,
          153.248,
          153.25799999999998,
          153.278,
          153.308,
          153.31,
          153.272,
          153.248,
          153.198,
          153.12802000000002,
          153.06804000000002,
          153.06204,
          153.03604,
          153.01204,
          153.02002,
          153.026,
          153.006,
          153.004,
          153.01600000000002,
          153.00799999999998,
          152.974,
          152.954,
          152.966,
          152.96800000000002,
          153.032,
          153.148,
          153.242,
          153.388,
          153.474,
          153.458,
          153.41400000000002,
          153.35600000000002,
          153.28799999999998,
          153.326,
          153.38144,
          153.24342,
          153.05342000000002,
          152.66342,
          152.22942,
          151.76597999999998,
          151.37686000000002,
          151.02086000000003,
          150.78986,
          150.61786,
          150.50788000000003,
          150.50101999999998,
          150.50702,
          150.62202,
          150.55602000000002,
          150.44368,
          150.32829999999998,
          150.2583,
          150.05331999999999,
          150.05231999999998,
          150.09864,
          150.02201999999997,
          149.86201999999997,
          149.70308,
          149.51808,
          149.34008,
          149.36808000000002,
          149.42208,
          149.73,
          150.01,
          150.17000000000002,
          150.15974,
          150.14274,
          149.94074,
          149.69074,
          149.60674,
          149.829,
          150.10008,
          150.34207999999998,
          150.59805999999998,
          150.80206,
          150.96206,
          151.11798,
          151.29142000000002,
          151.51944
         ]
        }
       ],
       "layout": {
        "template": {
         "data": {
          "bar": [
           {
            "error_x": {
             "color": "#2a3f5f"
            },
            "error_y": {
             "color": "#2a3f5f"
            },
            "marker": {
             "line": {
              "color": "#E5ECF6",
              "width": 0.5
             },
             "pattern": {
              "fillmode": "overlay",
              "size": 10,
              "solidity": 0.2
             }
            },
            "type": "bar"
           }
          ],
          "barpolar": [
           {
            "marker": {
             "line": {
              "color": "#E5ECF6",
              "width": 0.5
             },
             "pattern": {
              "fillmode": "overlay",
              "size": 10,
              "solidity": 0.2
             }
            },
            "type": "barpolar"
           }
          ],
          "carpet": [
           {
            "aaxis": {
             "endlinecolor": "#2a3f5f",
             "gridcolor": "white",
             "linecolor": "white",
             "minorgridcolor": "white",
             "startlinecolor": "#2a3f5f"
            },
            "baxis": {
             "endlinecolor": "#2a3f5f",
             "gridcolor": "white",
             "linecolor": "white",
             "minorgridcolor": "white",
             "startlinecolor": "#2a3f5f"
            },
            "type": "carpet"
           }
          ],
          "choropleth": [
           {
            "colorbar": {
             "outlinewidth": 0,
             "ticks": ""
            },
            "type": "choropleth"
           }
          ],
          "contour": [
           {
            "colorbar": {
             "outlinewidth": 0,
             "ticks": ""
            },
            "colorscale": [
             [
              0,
              "#0d0887"
             ],
             [
              0.1111111111111111,
              "#46039f"
             ],
             [
              0.2222222222222222,
              "#7201a8"
             ],
             [
              0.3333333333333333,
              "#9c179e"
             ],
             [
              0.4444444444444444,
              "#bd3786"
             ],
             [
              0.5555555555555556,
              "#d8576b"
             ],
             [
              0.6666666666666666,
              "#ed7953"
             ],
             [
              0.7777777777777778,
              "#fb9f3a"
             ],
             [
              0.8888888888888888,
              "#fdca26"
             ],
             [
              1,
              "#f0f921"
             ]
            ],
            "type": "contour"
           }
          ],
          "contourcarpet": [
           {
            "colorbar": {
             "outlinewidth": 0,
             "ticks": ""
            },
            "type": "contourcarpet"
           }
          ],
          "heatmap": [
           {
            "colorbar": {
             "outlinewidth": 0,
             "ticks": ""
            },
            "colorscale": [
             [
              0,
              "#0d0887"
             ],
             [
              0.1111111111111111,
              "#46039f"
             ],
             [
              0.2222222222222222,
              "#7201a8"
             ],
             [
              0.3333333333333333,
              "#9c179e"
             ],
             [
              0.4444444444444444,
              "#bd3786"
             ],
             [
              0.5555555555555556,
              "#d8576b"
             ],
             [
              0.6666666666666666,
              "#ed7953"
             ],
             [
              0.7777777777777778,
              "#fb9f3a"
             ],
             [
              0.8888888888888888,
              "#fdca26"
             ],
             [
              1,
              "#f0f921"
             ]
            ],
            "type": "heatmap"
           }
          ],
          "heatmapgl": [
           {
            "colorbar": {
             "outlinewidth": 0,
             "ticks": ""
            },
            "colorscale": [
             [
              0,
              "#0d0887"
             ],
             [
              0.1111111111111111,
              "#46039f"
             ],
             [
              0.2222222222222222,
              "#7201a8"
             ],
             [
              0.3333333333333333,
              "#9c179e"
             ],
             [
              0.4444444444444444,
              "#bd3786"
             ],
             [
              0.5555555555555556,
              "#d8576b"
             ],
             [
              0.6666666666666666,
              "#ed7953"
             ],
             [
              0.7777777777777778,
              "#fb9f3a"
             ],
             [
              0.8888888888888888,
              "#fdca26"
             ],
             [
              1,
              "#f0f921"
             ]
            ],
            "type": "heatmapgl"
           }
          ],
          "histogram": [
           {
            "marker": {
             "pattern": {
              "fillmode": "overlay",
              "size": 10,
              "solidity": 0.2
             }
            },
            "type": "histogram"
           }
          ],
          "histogram2d": [
           {
            "colorbar": {
             "outlinewidth": 0,
             "ticks": ""
            },
            "colorscale": [
             [
              0,
              "#0d0887"
             ],
             [
              0.1111111111111111,
              "#46039f"
             ],
             [
              0.2222222222222222,
              "#7201a8"
             ],
             [
              0.3333333333333333,
              "#9c179e"
             ],
             [
              0.4444444444444444,
              "#bd3786"
             ],
             [
              0.5555555555555556,
              "#d8576b"
             ],
             [
              0.6666666666666666,
              "#ed7953"
             ],
             [
              0.7777777777777778,
              "#fb9f3a"
             ],
             [
              0.8888888888888888,
              "#fdca26"
             ],
             [
              1,
              "#f0f921"
             ]
            ],
            "type": "histogram2d"
           }
          ],
          "histogram2dcontour": [
           {
            "colorbar": {
             "outlinewidth": 0,
             "ticks": ""
            },
            "colorscale": [
             [
              0,
              "#0d0887"
             ],
             [
              0.1111111111111111,
              "#46039f"
             ],
             [
              0.2222222222222222,
              "#7201a8"
             ],
             [
              0.3333333333333333,
              "#9c179e"
             ],
             [
              0.4444444444444444,
              "#bd3786"
             ],
             [
              0.5555555555555556,
              "#d8576b"
             ],
             [
              0.6666666666666666,
              "#ed7953"
             ],
             [
              0.7777777777777778,
              "#fb9f3a"
             ],
             [
              0.8888888888888888,
              "#fdca26"
             ],
             [
              1,
              "#f0f921"
             ]
            ],
            "type": "histogram2dcontour"
           }
          ],
          "mesh3d": [
           {
            "colorbar": {
             "outlinewidth": 0,
             "ticks": ""
            },
            "type": "mesh3d"
           }
          ],
          "parcoords": [
           {
            "line": {
             "colorbar": {
              "outlinewidth": 0,
              "ticks": ""
             }
            },
            "type": "parcoords"
           }
          ],
          "pie": [
           {
            "automargin": true,
            "type": "pie"
           }
          ],
          "scatter": [
           {
            "fillpattern": {
             "fillmode": "overlay",
             "size": 10,
             "solidity": 0.2
            },
            "type": "scatter"
           }
          ],
          "scatter3d": [
           {
            "line": {
             "colorbar": {
              "outlinewidth": 0,
              "ticks": ""
             }
            },
            "marker": {
             "colorbar": {
              "outlinewidth": 0,
              "ticks": ""
             }
            },
            "type": "scatter3d"
           }
          ],
          "scattercarpet": [
           {
            "marker": {
             "colorbar": {
              "outlinewidth": 0,
              "ticks": ""
             }
            },
            "type": "scattercarpet"
           }
          ],
          "scattergeo": [
           {
            "marker": {
             "colorbar": {
              "outlinewidth": 0,
              "ticks": ""
             }
            },
            "type": "scattergeo"
           }
          ],
          "scattergl": [
           {
            "marker": {
             "colorbar": {
              "outlinewidth": 0,
              "ticks": ""
             }
            },
            "type": "scattergl"
           }
          ],
          "scattermapbox": [
           {
            "marker": {
             "colorbar": {
              "outlinewidth": 0,
              "ticks": ""
             }
            },
            "type": "scattermapbox"
           }
          ],
          "scatterpolar": [
           {
            "marker": {
             "colorbar": {
              "outlinewidth": 0,
              "ticks": ""
             }
            },
            "type": "scatterpolar"
           }
          ],
          "scatterpolargl": [
           {
            "marker": {
             "colorbar": {
              "outlinewidth": 0,
              "ticks": ""
             }
            },
            "type": "scatterpolargl"
           }
          ],
          "scatterternary": [
           {
            "marker": {
             "colorbar": {
              "outlinewidth": 0,
              "ticks": ""
             }
            },
            "type": "scatterternary"
           }
          ],
          "surface": [
           {
            "colorbar": {
             "outlinewidth": 0,
             "ticks": ""
            },
            "colorscale": [
             [
              0,
              "#0d0887"
             ],
             [
              0.1111111111111111,
              "#46039f"
             ],
             [
              0.2222222222222222,
              "#7201a8"
             ],
             [
              0.3333333333333333,
              "#9c179e"
             ],
             [
              0.4444444444444444,
              "#bd3786"
             ],
             [
              0.5555555555555556,
              "#d8576b"
             ],
             [
              0.6666666666666666,
              "#ed7953"
             ],
             [
              0.7777777777777778,
              "#fb9f3a"
             ],
             [
              0.8888888888888888,
              "#fdca26"
             ],
             [
              1,
              "#f0f921"
             ]
            ],
            "type": "surface"
           }
          ],
          "table": [
           {
            "cells": {
             "fill": {
              "color": "#EBF0F8"
             },
             "line": {
              "color": "white"
             }
            },
            "header": {
             "fill": {
              "color": "#C8D4E3"
             },
             "line": {
              "color": "white"
             }
            },
            "type": "table"
           }
          ]
         },
         "layout": {
          "annotationdefaults": {
           "arrowcolor": "#2a3f5f",
           "arrowhead": 0,
           "arrowwidth": 1
          },
          "autotypenumbers": "strict",
          "coloraxis": {
           "colorbar": {
            "outlinewidth": 0,
            "ticks": ""
           }
          },
          "colorscale": {
           "diverging": [
            [
             0,
             "#8e0152"
            ],
            [
             0.1,
             "#c51b7d"
            ],
            [
             0.2,
             "#de77ae"
            ],
            [
             0.3,
             "#f1b6da"
            ],
            [
             0.4,
             "#fde0ef"
            ],
            [
             0.5,
             "#f7f7f7"
            ],
            [
             0.6,
             "#e6f5d0"
            ],
            [
             0.7,
             "#b8e186"
            ],
            [
             0.8,
             "#7fbc41"
            ],
            [
             0.9,
             "#4d9221"
            ],
            [
             1,
             "#276419"
            ]
           ],
           "sequential": [
            [
             0,
             "#0d0887"
            ],
            [
             0.1111111111111111,
             "#46039f"
            ],
            [
             0.2222222222222222,
             "#7201a8"
            ],
            [
             0.3333333333333333,
             "#9c179e"
            ],
            [
             0.4444444444444444,
             "#bd3786"
            ],
            [
             0.5555555555555556,
             "#d8576b"
            ],
            [
             0.6666666666666666,
             "#ed7953"
            ],
            [
             0.7777777777777778,
             "#fb9f3a"
            ],
            [
             0.8888888888888888,
             "#fdca26"
            ],
            [
             1,
             "#f0f921"
            ]
           ],
           "sequentialminus": [
            [
             0,
             "#0d0887"
            ],
            [
             0.1111111111111111,
             "#46039f"
            ],
            [
             0.2222222222222222,
             "#7201a8"
            ],
            [
             0.3333333333333333,
             "#9c179e"
            ],
            [
             0.4444444444444444,
             "#bd3786"
            ],
            [
             0.5555555555555556,
             "#d8576b"
            ],
            [
             0.6666666666666666,
             "#ed7953"
            ],
            [
             0.7777777777777778,
             "#fb9f3a"
            ],
            [
             0.8888888888888888,
             "#fdca26"
            ],
            [
             1,
             "#f0f921"
            ]
           ]
          },
          "colorway": [
           "#636efa",
           "#EF553B",
           "#00cc96",
           "#ab63fa",
           "#FFA15A",
           "#19d3f3",
           "#FF6692",
           "#B6E880",
           "#FF97FF",
           "#FECB52"
          ],
          "font": {
           "color": "#2a3f5f"
          },
          "geo": {
           "bgcolor": "white",
           "lakecolor": "white",
           "landcolor": "#E5ECF6",
           "showlakes": true,
           "showland": true,
           "subunitcolor": "white"
          },
          "hoverlabel": {
           "align": "left"
          },
          "hovermode": "closest",
          "mapbox": {
           "style": "light"
          },
          "paper_bgcolor": "white",
          "plot_bgcolor": "#E5ECF6",
          "polar": {
           "angularaxis": {
            "gridcolor": "white",
            "linecolor": "white",
            "ticks": ""
           },
           "bgcolor": "#E5ECF6",
           "radialaxis": {
            "gridcolor": "white",
            "linecolor": "white",
            "ticks": ""
           }
          },
          "scene": {
           "xaxis": {
            "backgroundcolor": "#E5ECF6",
            "gridcolor": "white",
            "gridwidth": 2,
            "linecolor": "white",
            "showbackground": true,
            "ticks": "",
            "zerolinecolor": "white"
           },
           "yaxis": {
            "backgroundcolor": "#E5ECF6",
            "gridcolor": "white",
            "gridwidth": 2,
            "linecolor": "white",
            "showbackground": true,
            "ticks": "",
            "zerolinecolor": "white"
           },
           "zaxis": {
            "backgroundcolor": "#E5ECF6",
            "gridcolor": "white",
            "gridwidth": 2,
            "linecolor": "white",
            "showbackground": true,
            "ticks": "",
            "zerolinecolor": "white"
           }
          },
          "shapedefaults": {
           "line": {
            "color": "#2a3f5f"
           }
          },
          "ternary": {
           "aaxis": {
            "gridcolor": "white",
            "linecolor": "white",
            "ticks": ""
           },
           "baxis": {
            "gridcolor": "white",
            "linecolor": "white",
            "ticks": ""
           },
           "bgcolor": "#E5ECF6",
           "caxis": {
            "gridcolor": "white",
            "linecolor": "white",
            "ticks": ""
           }
          },
          "title": {
           "x": 0.05
          },
          "xaxis": {
           "automargin": true,
           "gridcolor": "white",
           "linecolor": "white",
           "ticks": "",
           "title": {
            "standoff": 15
           },
           "zerolinecolor": "white",
           "zerolinewidth": 2
          },
          "yaxis": {
           "automargin": true,
           "gridcolor": "white",
           "linecolor": "white",
           "ticks": "",
           "title": {
            "standoff": 15
           },
           "zerolinecolor": "white",
           "zerolinewidth": 2
          }
         }
        },
        "xaxis": {
         "dtick": 10,
         "tickangle": 90,
         "tickfont": {
          "size": 10
         },
         "tickmode": "array",
         "ticktext": [
          "2022-12-22 20:00:00",
          "2022-12-22 19:55:00",
          "2022-12-22 19:50:00",
          "2022-12-22 19:45:00",
          "2022-12-22 19:40:00",
          "2022-12-22 19:35:00",
          "2022-12-22 19:30:00",
          "2022-12-22 19:25:00",
          "2022-12-22 19:20:00",
          "2022-12-22 19:15:00",
          "2022-12-22 19:05:00",
          "2022-12-22 19:00:00",
          "2022-12-22 18:55:00",
          "2022-12-22 18:50:00",
          "2022-12-22 18:45:00",
          "2022-12-22 18:40:00",
          "2022-12-22 18:35:00",
          "2022-12-22 18:30:00",
          "2022-12-22 18:25:00",
          "2022-12-22 18:20:00",
          "2022-12-22 18:15:00",
          "2022-12-22 18:10:00",
          "2022-12-22 18:05:00",
          "2022-12-22 18:00:00",
          "2022-12-22 17:55:00",
          "2022-12-22 17:50:00",
          "2022-12-22 17:45:00",
          "2022-12-22 17:40:00",
          "2022-12-22 17:35:00",
          "2022-12-22 17:30:00",
          "2022-12-22 17:25:00",
          "2022-12-22 17:20:00",
          "2022-12-22 17:15:00",
          "2022-12-22 17:10:00",
          "2022-12-22 17:05:00",
          "2022-12-22 17:00:00",
          "2022-12-22 16:55:00",
          "2022-12-22 16:50:00",
          "2022-12-22 16:45:00",
          "2022-12-22 16:40:00",
          "2022-12-22 16:35:00",
          "2022-12-22 16:30:00",
          "2022-12-22 16:25:00",
          "2022-12-22 16:20:00",
          "2022-12-22 16:15:00",
          "2022-12-22 16:10:00",
          "2022-12-22 16:05:00",
          "2022-12-22 16:00:00",
          "2022-12-22 15:55:00",
          "2022-12-22 15:50:00",
          "2022-12-22 15:45:00",
          "2022-12-22 15:40:00",
          "2022-12-22 15:35:00",
          "2022-12-22 15:30:00",
          "2022-12-22 15:25:00",
          "2022-12-22 15:20:00",
          "2022-12-22 15:15:00",
          "2022-12-22 15:10:00",
          "2022-12-22 15:05:00",
          "2022-12-22 15:00:00",
          "2022-12-22 14:55:00",
          "2022-12-22 14:50:00",
          "2022-12-22 14:45:00",
          "2022-12-22 14:40:00",
          "2022-12-22 14:35:00",
          "2022-12-22 14:30:00",
          "2022-12-22 14:25:00",
          "2022-12-22 14:20:00",
          "2022-12-22 14:15:00",
          "2022-12-22 14:10:00",
          "2022-12-22 14:05:00",
          "2022-12-22 14:00:00",
          "2022-12-22 13:55:00",
          "2022-12-22 13:50:00",
          "2022-12-22 13:45:00",
          "2022-12-22 13:40:00",
          "2022-12-22 13:35:00",
          "2022-12-22 13:30:00",
          "2022-12-22 13:25:00",
          "2022-12-22 13:20:00",
          "2022-12-22 13:15:00",
          "2022-12-22 13:10:00",
          "2022-12-22 13:05:00",
          "2022-12-22 13:00:00",
          "2022-12-22 12:55:00",
          "2022-12-22 12:50:00",
          "2022-12-22 12:45:00",
          "2022-12-22 12:40:00",
          "2022-12-22 12:35:00",
          "2022-12-22 12:30:00",
          "2022-12-22 12:25:00",
          "2022-12-22 12:20:00",
          "2022-12-22 12:15:00",
          "2022-12-22 12:10:00",
          "2022-12-22 12:05:00",
          "2022-12-22 12:00:00",
          "2022-12-22 11:55:00",
          "2022-12-22 11:50:00",
          "2022-12-22 11:45:00",
          "2022-12-22 11:40:00"
         ],
         "tickvals": [
          "2022-12-22 20:00:00",
          "2022-12-22 19:55:00",
          "2022-12-22 19:50:00",
          "2022-12-22 19:45:00",
          "2022-12-22 19:40:00",
          "2022-12-22 19:35:00",
          "2022-12-22 19:30:00",
          "2022-12-22 19:25:00",
          "2022-12-22 19:20:00",
          "2022-12-22 19:15:00",
          "2022-12-22 19:05:00",
          "2022-12-22 19:00:00",
          "2022-12-22 18:55:00",
          "2022-12-22 18:50:00",
          "2022-12-22 18:45:00",
          "2022-12-22 18:40:00",
          "2022-12-22 18:35:00",
          "2022-12-22 18:30:00",
          "2022-12-22 18:25:00",
          "2022-12-22 18:20:00",
          "2022-12-22 18:15:00",
          "2022-12-22 18:10:00",
          "2022-12-22 18:05:00",
          "2022-12-22 18:00:00",
          "2022-12-22 17:55:00",
          "2022-12-22 17:50:00",
          "2022-12-22 17:45:00",
          "2022-12-22 17:40:00",
          "2022-12-22 17:35:00",
          "2022-12-22 17:30:00",
          "2022-12-22 17:25:00",
          "2022-12-22 17:20:00",
          "2022-12-22 17:15:00",
          "2022-12-22 17:10:00",
          "2022-12-22 17:05:00",
          "2022-12-22 17:00:00",
          "2022-12-22 16:55:00",
          "2022-12-22 16:50:00",
          "2022-12-22 16:45:00",
          "2022-12-22 16:40:00",
          "2022-12-22 16:35:00",
          "2022-12-22 16:30:00",
          "2022-12-22 16:25:00",
          "2022-12-22 16:20:00",
          "2022-12-22 16:15:00",
          "2022-12-22 16:10:00",
          "2022-12-22 16:05:00",
          "2022-12-22 16:00:00",
          "2022-12-22 15:55:00",
          "2022-12-22 15:50:00",
          "2022-12-22 15:45:00",
          "2022-12-22 15:40:00",
          "2022-12-22 15:35:00",
          "2022-12-22 15:30:00",
          "2022-12-22 15:25:00",
          "2022-12-22 15:20:00",
          "2022-12-22 15:15:00",
          "2022-12-22 15:10:00",
          "2022-12-22 15:05:00",
          "2022-12-22 15:00:00",
          "2022-12-22 14:55:00",
          "2022-12-22 14:50:00",
          "2022-12-22 14:45:00",
          "2022-12-22 14:40:00",
          "2022-12-22 14:35:00",
          "2022-12-22 14:30:00",
          "2022-12-22 14:25:00",
          "2022-12-22 14:20:00",
          "2022-12-22 14:15:00",
          "2022-12-22 14:10:00",
          "2022-12-22 14:05:00",
          "2022-12-22 14:00:00",
          "2022-12-22 13:55:00",
          "2022-12-22 13:50:00",
          "2022-12-22 13:45:00",
          "2022-12-22 13:40:00",
          "2022-12-22 13:35:00",
          "2022-12-22 13:30:00",
          "2022-12-22 13:25:00",
          "2022-12-22 13:20:00",
          "2022-12-22 13:15:00",
          "2022-12-22 13:10:00",
          "2022-12-22 13:05:00",
          "2022-12-22 13:00:00",
          "2022-12-22 12:55:00",
          "2022-12-22 12:50:00",
          "2022-12-22 12:45:00",
          "2022-12-22 12:40:00",
          "2022-12-22 12:35:00",
          "2022-12-22 12:30:00",
          "2022-12-22 12:25:00",
          "2022-12-22 12:20:00",
          "2022-12-22 12:15:00",
          "2022-12-22 12:10:00",
          "2022-12-22 12:05:00",
          "2022-12-22 12:00:00",
          "2022-12-22 11:55:00",
          "2022-12-22 11:50:00",
          "2022-12-22 11:45:00",
          "2022-12-22 11:40:00"
         ]
        }
       }
      },
      "text/html": [
       "<div>                            <div id=\"9eb3be23-3936-4886-a2c5-c828ff7cd2c8\" class=\"plotly-graph-div\" style=\"height:525px; width:100%;\"></div>            <script type=\"text/javascript\">                require([\"plotly\"], function(Plotly) {                    window.PLOTLYENV=window.PLOTLYENV || {};                                    if (document.getElementById(\"9eb3be23-3936-4886-a2c5-c828ff7cd2c8\")) {                    Plotly.newPlot(                        \"9eb3be23-3936-4886-a2c5-c828ff7cd2c8\",                        [{\"close\":[\"151.6600\",\"152.1000\",\"152.3200\",\"152.3200\",\"152.4900\",\"152.4000\",\"152.8500\",\"152.8800\",\"152.9000\",\"152.9500\",\"153.0000\",\"153.0000\",\"152.9000\",\"153.0000\",\"153.0000\",\"152.9600\",\"152.9501\",\"153.1000\",\"153.2000\",\"153.2000\",\"153.2000\",\"153.2900\",\"153.3500\",\"153.2500\",\"153.3000\",\"153.3500\",\"153.3000\",\"153.1600\",\"153.1300\",\"153.0500\",\"153.0001\",\"153.0001\",\"153.1300\",\"153.0000\",\"152.9300\",\"153.0400\",\"153.0300\",\"153.0300\",\"152.9900\",\"152.9900\",\"153.0000\",\"152.8600\",\"152.9300\",\"153.0500\",\"153.0000\",\"153.3200\",\"153.4400\",\"153.4000\",\"153.7800\",\"153.4300\",\"153.2400\",\"153.2200\",\"153.1100\",\"153.4400\",\"153.6200\",\"153.5172\",\"152.5299\",\"152.1600\",\"151.4900\",\"151.4500\",\"151.2000\",\"150.5843\",\"150.3800\",\"150.3350\",\"150.5900\",\"150.6501\",\"150.5500\",\"150.4100\",\"150.9100\",\"150.2600\",\"150.0884\",\"149.9731\",\"150.0600\",\"149.8851\",\"150.2550\",\"150.3200\",\"149.5900\",\"149.2600\",\"149.0904\",\"149.3300\",\"149.4300\",\"149.7300\",\"149.5300\",\"150.6300\",\"150.7300\",\"150.2300\",\"149.6787\",\"149.4450\",\"149.6200\",\"149.4800\",\"149.8100\",\"150.7900\",\"150.8004\",\"150.8300\",\"150.7599\",\"150.8300\",\"151.5900\",\"151.5800\",\"151.6972\",\"151.9000\"],\"high\":[\"152.0000\",\"152.3100\",\"152.4000\",\"152.3500\",\"152.4900\",\"152.8400\",\"152.8800\",\"152.9999\",\"152.9500\",\"153.0500\",\"153.0000\",\"153.0000\",\"152.9100\",\"153.0000\",\"153.0000\",\"152.9600\",\"153.1300\",\"153.1000\",\"153.2000\",\"153.2000\",\"153.2800\",\"153.2900\",\"153.3500\",\"153.3100\",\"153.3900\",\"153.3500\",\"153.3000\",\"153.1600\",\"153.1700\",\"153.0500\",\"153.0001\",\"153.1000\",\"153.3900\",\"153.0000\",\"153.0100\",\"153.0400\",\"153.0912\",\"153.1000\",\"152.9900\",\"153.1000\",\"153.0000\",\"152.9000\",\"153.0500\",\"153.1437\",\"153.4000\",\"153.4900\",\"153.6600\",\"153.8100\",\"154.3499\",\"153.4600\",\"153.4200\",\"153.3800\",\"153.7200\",\"153.7800\",\"154.2300\",\"153.5355\",\"152.5800\",\"152.2400\",\"151.7100\",\"151.5496\",\"151.2150\",\"150.6500\",\"150.5437\",\"150.7300\",\"150.8700\",\"150.8200\",\"150.5700\",\"150.8900\",\"150.9800\",\"150.4699\",\"150.1800\",\"150.1300\",\"150.1980\",\"150.2544\",\"150.3600\",\"150.3700\",\"149.6500\",\"149.4500\",\"149.3600\",\"149.5300\",\"149.9260\",\"149.8300\",\"150.6300\",\"150.8700\",\"150.7752\",\"150.2700\",\"149.7600\",\"149.7800\",\"149.7200\",\"149.8900\",\"150.9200\",\"151.1200\",\"151.0400\",\"150.9700\",\"151.3200\",\"151.5400\",\"151.7500\",\"151.7999\",\"151.9000\",\"152.2200\"],\"low\":[\"151.6600\",\"152.0100\",\"152.3100\",\"152.2800\",\"152.3000\",\"152.4000\",\"152.8400\",\"152.8600\",\"152.9000\",\"152.9500\",\"153.0000\",\"152.9001\",\"152.9000\",\"153.0000\",\"153.0000\",\"152.9600\",\"152.9501\",\"153.1000\",\"153.1000\",\"153.1200\",\"153.1800\",\"153.0600\",\"153.1000\",\"153.2500\",\"153.3000\",\"153.2800\",\"153.1700\",\"153.1200\",\"152.9500\",\"152.9200\",\"153.0000\",\"153.0000\",\"152.9600\",\"152.9500\",\"152.9300\",\"153.0300\",\"153.0100\",\"152.9800\",\"152.9200\",\"152.9900\",\"152.8600\",\"150.6300\",\"152.8900\",\"152.9300\",\"153.0000\",\"153.3000\",\"153.3900\",\"153.0830\",\"153.4550\",\"152.9900\",\"152.9401\",\"152.9200\",\"153.0400\",\"153.2180\",\"153.4700\",\"152.4510\",\"152.0900\",\"151.3050\",\"151.1700\",\"151.0100\",\"150.3800\",\"150.2300\",\"150.1600\",\"150.1300\",\"150.4334\",\"150.2600\",\"150.0500\",\"150.3400\",\"150.2400\",\"150.0200\",\"149.8100\",\"149.5800\",\"149.7900\",\"149.7200\",\"149.9700\",\"149.5400\",\"148.9900\",\"149.0444\",\"148.8200\",\"149.0800\",\"149.4100\",\"149.3282\",\"149.5200\",\"150.3400\",\"150.1000\",\"149.7000\",\"149.3200\",\"149.1400\",\"149.3800\",\"149.2300\",\"149.8002\",\"150.7734\",\"150.7500\",\"150.5000\",\"150.7200\",\"150.5600\",\"151.3400\",\"151.1600\",\"151.4600\",\"151.8000\"],\"name\":\"Historical Data\",\"open\":[\"152.0000\",\"152.3100\",\"152.4000\",\"152.3500\",\"152.4000\",\"152.8400\",\"152.8800\",\"152.8600\",\"152.9500\",\"153.0500\",\"153.0000\",\"152.9001\",\"152.9100\",\"153.0000\",\"153.0000\",\"152.9600\",\"153.1300\",\"153.1000\",\"153.1000\",\"153.2000\",\"153.1800\",\"153.0600\",\"153.2000\",\"153.2960\",\"153.3487\",\"153.3000\",\"153.1700\",\"153.1300\",\"152.9500\",\"152.9401\",\"153.0000\",\"153.0060\",\"152.9600\",\"152.9500\",\"153.0000\",\"153.0300\",\"153.0100\",\"152.9800\",\"152.9200\",\"153.1000\",\"152.8600\",\"152.9000\",\"153.0500\",\"153.0100\",\"153.3200\",\"153.4200\",\"153.3900\",\"153.8100\",\"153.4550\",\"153.2500\",\"153.2100\",\"153.1100\",\"153.4300\",\"153.6537\",\"153.5100\",\"152.5200\",\"152.1700\",\"151.4924\",\"151.4500\",\"151.1999\",\"150.6000\",\"150.4000\",\"150.3300\",\"150.6100\",\"150.6500\",\"150.5600\",\"150.4100\",\"150.8800\",\"150.2700\",\"150.0850\",\"149.9900\",\"150.0500\",\"149.8800\",\"150.2400\",\"150.3249\",\"149.6000\",\"149.2500\",\"149.1200\",\"149.3100\",\"149.4200\",\"149.7400\",\"149.5200\",\"150.6150\",\"150.7200\",\"150.2300\",\"149.7000\",\"149.4401\",\"149.6200\",\"149.4700\",\"149.8008\",\"150.7909\",\"150.8000\",\"150.8200\",\"150.7514\",\"150.8100\",\"151.5400\",\"151.5800\",\"151.6793\",\"151.8919\",\"151.9900\"],\"x\":[\"2022-12-22 20:00:00\",\"2022-12-22 19:55:00\",\"2022-12-22 19:50:00\",\"2022-12-22 19:45:00\",\"2022-12-22 19:40:00\",\"2022-12-22 19:35:00\",\"2022-12-22 19:30:00\",\"2022-12-22 19:25:00\",\"2022-12-22 19:20:00\",\"2022-12-22 19:15:00\",\"2022-12-22 19:05:00\",\"2022-12-22 19:00:00\",\"2022-12-22 18:55:00\",\"2022-12-22 18:50:00\",\"2022-12-22 18:45:00\",\"2022-12-22 18:40:00\",\"2022-12-22 18:35:00\",\"2022-12-22 18:30:00\",\"2022-12-22 18:25:00\",\"2022-12-22 18:20:00\",\"2022-12-22 18:15:00\",\"2022-12-22 18:10:00\",\"2022-12-22 18:05:00\",\"2022-12-22 18:00:00\",\"2022-12-22 17:55:00\",\"2022-12-22 17:50:00\",\"2022-12-22 17:45:00\",\"2022-12-22 17:40:00\",\"2022-12-22 17:35:00\",\"2022-12-22 17:30:00\",\"2022-12-22 17:25:00\",\"2022-12-22 17:20:00\",\"2022-12-22 17:15:00\",\"2022-12-22 17:10:00\",\"2022-12-22 17:05:00\",\"2022-12-22 17:00:00\",\"2022-12-22 16:55:00\",\"2022-12-22 16:50:00\",\"2022-12-22 16:45:00\",\"2022-12-22 16:40:00\",\"2022-12-22 16:35:00\",\"2022-12-22 16:30:00\",\"2022-12-22 16:25:00\",\"2022-12-22 16:20:00\",\"2022-12-22 16:15:00\",\"2022-12-22 16:10:00\",\"2022-12-22 16:05:00\",\"2022-12-22 16:00:00\",\"2022-12-22 15:55:00\",\"2022-12-22 15:50:00\",\"2022-12-22 15:45:00\",\"2022-12-22 15:40:00\",\"2022-12-22 15:35:00\",\"2022-12-22 15:30:00\",\"2022-12-22 15:25:00\",\"2022-12-22 15:20:00\",\"2022-12-22 15:15:00\",\"2022-12-22 15:10:00\",\"2022-12-22 15:05:00\",\"2022-12-22 15:00:00\",\"2022-12-22 14:55:00\",\"2022-12-22 14:50:00\",\"2022-12-22 14:45:00\",\"2022-12-22 14:40:00\",\"2022-12-22 14:35:00\",\"2022-12-22 14:30:00\",\"2022-12-22 14:25:00\",\"2022-12-22 14:20:00\",\"2022-12-22 14:15:00\",\"2022-12-22 14:10:00\",\"2022-12-22 14:05:00\",\"2022-12-22 14:00:00\",\"2022-12-22 13:55:00\",\"2022-12-22 13:50:00\",\"2022-12-22 13:45:00\",\"2022-12-22 13:40:00\",\"2022-12-22 13:35:00\",\"2022-12-22 13:30:00\",\"2022-12-22 13:25:00\",\"2022-12-22 13:20:00\",\"2022-12-22 13:15:00\",\"2022-12-22 13:10:00\",\"2022-12-22 13:05:00\",\"2022-12-22 13:00:00\",\"2022-12-22 12:55:00\",\"2022-12-22 12:50:00\",\"2022-12-22 12:45:00\",\"2022-12-22 12:40:00\",\"2022-12-22 12:35:00\",\"2022-12-22 12:30:00\",\"2022-12-22 12:25:00\",\"2022-12-22 12:20:00\",\"2022-12-22 12:15:00\",\"2022-12-22 12:10:00\",\"2022-12-22 12:05:00\",\"2022-12-22 12:00:00\",\"2022-12-22 11:55:00\",\"2022-12-22 11:50:00\",\"2022-12-22 11:45:00\",\"2022-12-22 11:40:00\"],\"type\":\"candlestick\"},{\"line\":{\"color\":\"gray\"},\"name\":\"SMA\",\"x\":[\"2022-12-22 20:00:00\",\"2022-12-22 19:55:00\",\"2022-12-22 19:50:00\",\"2022-12-22 19:45:00\",\"2022-12-22 19:40:00\",\"2022-12-22 19:35:00\",\"2022-12-22 19:30:00\",\"2022-12-22 19:25:00\",\"2022-12-22 19:20:00\",\"2022-12-22 19:15:00\",\"2022-12-22 19:05:00\",\"2022-12-22 19:00:00\",\"2022-12-22 18:55:00\",\"2022-12-22 18:50:00\",\"2022-12-22 18:45:00\",\"2022-12-22 18:40:00\",\"2022-12-22 18:35:00\",\"2022-12-22 18:30:00\",\"2022-12-22 18:25:00\",\"2022-12-22 18:20:00\",\"2022-12-22 18:15:00\",\"2022-12-22 18:10:00\",\"2022-12-22 18:05:00\",\"2022-12-22 18:00:00\",\"2022-12-22 17:55:00\",\"2022-12-22 17:50:00\",\"2022-12-22 17:45:00\",\"2022-12-22 17:40:00\",\"2022-12-22 17:35:00\",\"2022-12-22 17:30:00\",\"2022-12-22 17:25:00\",\"2022-12-22 17:20:00\",\"2022-12-22 17:15:00\",\"2022-12-22 17:10:00\",\"2022-12-22 17:05:00\",\"2022-12-22 17:00:00\",\"2022-12-22 16:55:00\",\"2022-12-22 16:50:00\",\"2022-12-22 16:45:00\",\"2022-12-22 16:40:00\",\"2022-12-22 16:35:00\",\"2022-12-22 16:30:00\",\"2022-12-22 16:25:00\",\"2022-12-22 16:20:00\",\"2022-12-22 16:15:00\",\"2022-12-22 16:10:00\",\"2022-12-22 16:05:00\",\"2022-12-22 16:00:00\",\"2022-12-22 15:55:00\",\"2022-12-22 15:50:00\",\"2022-12-22 15:45:00\",\"2022-12-22 15:40:00\",\"2022-12-22 15:35:00\",\"2022-12-22 15:30:00\",\"2022-12-22 15:25:00\",\"2022-12-22 15:20:00\",\"2022-12-22 15:15:00\",\"2022-12-22 15:10:00\",\"2022-12-22 15:05:00\",\"2022-12-22 15:00:00\",\"2022-12-22 14:55:00\",\"2022-12-22 14:50:00\",\"2022-12-22 14:45:00\",\"2022-12-22 14:40:00\",\"2022-12-22 14:35:00\",\"2022-12-22 14:30:00\",\"2022-12-22 14:25:00\",\"2022-12-22 14:20:00\",\"2022-12-22 14:15:00\",\"2022-12-22 14:10:00\",\"2022-12-22 14:05:00\",\"2022-12-22 14:00:00\",\"2022-12-22 13:55:00\",\"2022-12-22 13:50:00\",\"2022-12-22 13:45:00\",\"2022-12-22 13:40:00\",\"2022-12-22 13:35:00\",\"2022-12-22 13:30:00\",\"2022-12-22 13:25:00\",\"2022-12-22 13:20:00\",\"2022-12-22 13:15:00\",\"2022-12-22 13:10:00\",\"2022-12-22 13:05:00\",\"2022-12-22 13:00:00\",\"2022-12-22 12:55:00\",\"2022-12-22 12:50:00\",\"2022-12-22 12:45:00\",\"2022-12-22 12:40:00\",\"2022-12-22 12:35:00\",\"2022-12-22 12:30:00\",\"2022-12-22 12:25:00\",\"2022-12-22 12:20:00\",\"2022-12-22 12:15:00\",\"2022-12-22 12:10:00\",\"2022-12-22 12:05:00\",\"2022-12-22 12:00:00\",\"2022-12-22 11:55:00\",\"2022-12-22 11:50:00\",\"2022-12-22 11:45:00\",\"2022-12-22 11:40:00\"],\"y\":[null,null,null,null,152.178,152.326,152.476,152.588,152.704,152.796,152.916,152.946,152.95,152.97,152.98,152.972,152.96202,153.00202,153.04202,153.08202,153.13002,153.198,153.248,153.25799999999998,153.278,153.308,153.31,153.272,153.248,153.198,153.12802000000002,153.06804000000002,153.06204,153.03604,153.01204,153.02002,153.026,153.006,153.004,153.01600000000002,153.00799999999998,152.974,152.954,152.966,152.96800000000002,153.032,153.148,153.242,153.388,153.474,153.458,153.41400000000002,153.35600000000002,153.28799999999998,153.326,153.38144,153.24342,153.05342000000002,152.66342,152.22942,151.76597999999998,151.37686000000002,151.02086000000003,150.78986,150.61786,150.50788000000003,150.50101999999998,150.50702,150.62202,150.55602000000002,150.44368,150.32829999999998,150.2583,150.05331999999999,150.05231999999998,150.09864,150.02201999999997,149.86201999999997,149.70308,149.51808,149.34008,149.36808000000002,149.42208,149.73,150.01,150.17000000000002,150.15974,150.14274,149.94074,149.69074,149.60674,149.829,150.10008,150.34207999999998,150.59805999999998,150.80206,150.96206,151.11798,151.29142000000002,151.51944],\"type\":\"scatter\"}],                        {\"template\":{\"data\":{\"barpolar\":[{\"marker\":{\"line\":{\"color\":\"#E5ECF6\",\"width\":0.5},\"pattern\":{\"fillmode\":\"overlay\",\"size\":10,\"solidity\":0.2}},\"type\":\"barpolar\"}],\"bar\":[{\"error_x\":{\"color\":\"#2a3f5f\"},\"error_y\":{\"color\":\"#2a3f5f\"},\"marker\":{\"line\":{\"color\":\"#E5ECF6\",\"width\":0.5},\"pattern\":{\"fillmode\":\"overlay\",\"size\":10,\"solidity\":0.2}},\"type\":\"bar\"}],\"carpet\":[{\"aaxis\":{\"endlinecolor\":\"#2a3f5f\",\"gridcolor\":\"white\",\"linecolor\":\"white\",\"minorgridcolor\":\"white\",\"startlinecolor\":\"#2a3f5f\"},\"baxis\":{\"endlinecolor\":\"#2a3f5f\",\"gridcolor\":\"white\",\"linecolor\":\"white\",\"minorgridcolor\":\"white\",\"startlinecolor\":\"#2a3f5f\"},\"type\":\"carpet\"}],\"choropleth\":[{\"colorbar\":{\"outlinewidth\":0,\"ticks\":\"\"},\"type\":\"choropleth\"}],\"contourcarpet\":[{\"colorbar\":{\"outlinewidth\":0,\"ticks\":\"\"},\"type\":\"contourcarpet\"}],\"contour\":[{\"colorbar\":{\"outlinewidth\":0,\"ticks\":\"\"},\"colorscale\":[[0.0,\"#0d0887\"],[0.1111111111111111,\"#46039f\"],[0.2222222222222222,\"#7201a8\"],[0.3333333333333333,\"#9c179e\"],[0.4444444444444444,\"#bd3786\"],[0.5555555555555556,\"#d8576b\"],[0.6666666666666666,\"#ed7953\"],[0.7777777777777778,\"#fb9f3a\"],[0.8888888888888888,\"#fdca26\"],[1.0,\"#f0f921\"]],\"type\":\"contour\"}],\"heatmapgl\":[{\"colorbar\":{\"outlinewidth\":0,\"ticks\":\"\"},\"colorscale\":[[0.0,\"#0d0887\"],[0.1111111111111111,\"#46039f\"],[0.2222222222222222,\"#7201a8\"],[0.3333333333333333,\"#9c179e\"],[0.4444444444444444,\"#bd3786\"],[0.5555555555555556,\"#d8576b\"],[0.6666666666666666,\"#ed7953\"],[0.7777777777777778,\"#fb9f3a\"],[0.8888888888888888,\"#fdca26\"],[1.0,\"#f0f921\"]],\"type\":\"heatmapgl\"}],\"heatmap\":[{\"colorbar\":{\"outlinewidth\":0,\"ticks\":\"\"},\"colorscale\":[[0.0,\"#0d0887\"],[0.1111111111111111,\"#46039f\"],[0.2222222222222222,\"#7201a8\"],[0.3333333333333333,\"#9c179e\"],[0.4444444444444444,\"#bd3786\"],[0.5555555555555556,\"#d8576b\"],[0.6666666666666666,\"#ed7953\"],[0.7777777777777778,\"#fb9f3a\"],[0.8888888888888888,\"#fdca26\"],[1.0,\"#f0f921\"]],\"type\":\"heatmap\"}],\"histogram2dcontour\":[{\"colorbar\":{\"outlinewidth\":0,\"ticks\":\"\"},\"colorscale\":[[0.0,\"#0d0887\"],[0.1111111111111111,\"#46039f\"],[0.2222222222222222,\"#7201a8\"],[0.3333333333333333,\"#9c179e\"],[0.4444444444444444,\"#bd3786\"],[0.5555555555555556,\"#d8576b\"],[0.6666666666666666,\"#ed7953\"],[0.7777777777777778,\"#fb9f3a\"],[0.8888888888888888,\"#fdca26\"],[1.0,\"#f0f921\"]],\"type\":\"histogram2dcontour\"}],\"histogram2d\":[{\"colorbar\":{\"outlinewidth\":0,\"ticks\":\"\"},\"colorscale\":[[0.0,\"#0d0887\"],[0.1111111111111111,\"#46039f\"],[0.2222222222222222,\"#7201a8\"],[0.3333333333333333,\"#9c179e\"],[0.4444444444444444,\"#bd3786\"],[0.5555555555555556,\"#d8576b\"],[0.6666666666666666,\"#ed7953\"],[0.7777777777777778,\"#fb9f3a\"],[0.8888888888888888,\"#fdca26\"],[1.0,\"#f0f921\"]],\"type\":\"histogram2d\"}],\"histogram\":[{\"marker\":{\"pattern\":{\"fillmode\":\"overlay\",\"size\":10,\"solidity\":0.2}},\"type\":\"histogram\"}],\"mesh3d\":[{\"colorbar\":{\"outlinewidth\":0,\"ticks\":\"\"},\"type\":\"mesh3d\"}],\"parcoords\":[{\"line\":{\"colorbar\":{\"outlinewidth\":0,\"ticks\":\"\"}},\"type\":\"parcoords\"}],\"pie\":[{\"automargin\":true,\"type\":\"pie\"}],\"scatter3d\":[{\"line\":{\"colorbar\":{\"outlinewidth\":0,\"ticks\":\"\"}},\"marker\":{\"colorbar\":{\"outlinewidth\":0,\"ticks\":\"\"}},\"type\":\"scatter3d\"}],\"scattercarpet\":[{\"marker\":{\"colorbar\":{\"outlinewidth\":0,\"ticks\":\"\"}},\"type\":\"scattercarpet\"}],\"scattergeo\":[{\"marker\":{\"colorbar\":{\"outlinewidth\":0,\"ticks\":\"\"}},\"type\":\"scattergeo\"}],\"scattergl\":[{\"marker\":{\"colorbar\":{\"outlinewidth\":0,\"ticks\":\"\"}},\"type\":\"scattergl\"}],\"scattermapbox\":[{\"marker\":{\"colorbar\":{\"outlinewidth\":0,\"ticks\":\"\"}},\"type\":\"scattermapbox\"}],\"scatterpolargl\":[{\"marker\":{\"colorbar\":{\"outlinewidth\":0,\"ticks\":\"\"}},\"type\":\"scatterpolargl\"}],\"scatterpolar\":[{\"marker\":{\"colorbar\":{\"outlinewidth\":0,\"ticks\":\"\"}},\"type\":\"scatterpolar\"}],\"scatter\":[{\"fillpattern\":{\"fillmode\":\"overlay\",\"size\":10,\"solidity\":0.2},\"type\":\"scatter\"}],\"scatterternary\":[{\"marker\":{\"colorbar\":{\"outlinewidth\":0,\"ticks\":\"\"}},\"type\":\"scatterternary\"}],\"surface\":[{\"colorbar\":{\"outlinewidth\":0,\"ticks\":\"\"},\"colorscale\":[[0.0,\"#0d0887\"],[0.1111111111111111,\"#46039f\"],[0.2222222222222222,\"#7201a8\"],[0.3333333333333333,\"#9c179e\"],[0.4444444444444444,\"#bd3786\"],[0.5555555555555556,\"#d8576b\"],[0.6666666666666666,\"#ed7953\"],[0.7777777777777778,\"#fb9f3a\"],[0.8888888888888888,\"#fdca26\"],[1.0,\"#f0f921\"]],\"type\":\"surface\"}],\"table\":[{\"cells\":{\"fill\":{\"color\":\"#EBF0F8\"},\"line\":{\"color\":\"white\"}},\"header\":{\"fill\":{\"color\":\"#C8D4E3\"},\"line\":{\"color\":\"white\"}},\"type\":\"table\"}]},\"layout\":{\"annotationdefaults\":{\"arrowcolor\":\"#2a3f5f\",\"arrowhead\":0,\"arrowwidth\":1},\"autotypenumbers\":\"strict\",\"coloraxis\":{\"colorbar\":{\"outlinewidth\":0,\"ticks\":\"\"}},\"colorscale\":{\"diverging\":[[0,\"#8e0152\"],[0.1,\"#c51b7d\"],[0.2,\"#de77ae\"],[0.3,\"#f1b6da\"],[0.4,\"#fde0ef\"],[0.5,\"#f7f7f7\"],[0.6,\"#e6f5d0\"],[0.7,\"#b8e186\"],[0.8,\"#7fbc41\"],[0.9,\"#4d9221\"],[1,\"#276419\"]],\"sequential\":[[0.0,\"#0d0887\"],[0.1111111111111111,\"#46039f\"],[0.2222222222222222,\"#7201a8\"],[0.3333333333333333,\"#9c179e\"],[0.4444444444444444,\"#bd3786\"],[0.5555555555555556,\"#d8576b\"],[0.6666666666666666,\"#ed7953\"],[0.7777777777777778,\"#fb9f3a\"],[0.8888888888888888,\"#fdca26\"],[1.0,\"#f0f921\"]],\"sequentialminus\":[[0.0,\"#0d0887\"],[0.1111111111111111,\"#46039f\"],[0.2222222222222222,\"#7201a8\"],[0.3333333333333333,\"#9c179e\"],[0.4444444444444444,\"#bd3786\"],[0.5555555555555556,\"#d8576b\"],[0.6666666666666666,\"#ed7953\"],[0.7777777777777778,\"#fb9f3a\"],[0.8888888888888888,\"#fdca26\"],[1.0,\"#f0f921\"]]},\"colorway\":[\"#636efa\",\"#EF553B\",\"#00cc96\",\"#ab63fa\",\"#FFA15A\",\"#19d3f3\",\"#FF6692\",\"#B6E880\",\"#FF97FF\",\"#FECB52\"],\"font\":{\"color\":\"#2a3f5f\"},\"geo\":{\"bgcolor\":\"white\",\"lakecolor\":\"white\",\"landcolor\":\"#E5ECF6\",\"showlakes\":true,\"showland\":true,\"subunitcolor\":\"white\"},\"hoverlabel\":{\"align\":\"left\"},\"hovermode\":\"closest\",\"mapbox\":{\"style\":\"light\"},\"paper_bgcolor\":\"white\",\"plot_bgcolor\":\"#E5ECF6\",\"polar\":{\"angularaxis\":{\"gridcolor\":\"white\",\"linecolor\":\"white\",\"ticks\":\"\"},\"bgcolor\":\"#E5ECF6\",\"radialaxis\":{\"gridcolor\":\"white\",\"linecolor\":\"white\",\"ticks\":\"\"}},\"scene\":{\"xaxis\":{\"backgroundcolor\":\"#E5ECF6\",\"gridcolor\":\"white\",\"gridwidth\":2,\"linecolor\":\"white\",\"showbackground\":true,\"ticks\":\"\",\"zerolinecolor\":\"white\"},\"yaxis\":{\"backgroundcolor\":\"#E5ECF6\",\"gridcolor\":\"white\",\"gridwidth\":2,\"linecolor\":\"white\",\"showbackground\":true,\"ticks\":\"\",\"zerolinecolor\":\"white\"},\"zaxis\":{\"backgroundcolor\":\"#E5ECF6\",\"gridcolor\":\"white\",\"gridwidth\":2,\"linecolor\":\"white\",\"showbackground\":true,\"ticks\":\"\",\"zerolinecolor\":\"white\"}},\"shapedefaults\":{\"line\":{\"color\":\"#2a3f5f\"}},\"ternary\":{\"aaxis\":{\"gridcolor\":\"white\",\"linecolor\":\"white\",\"ticks\":\"\"},\"baxis\":{\"gridcolor\":\"white\",\"linecolor\":\"white\",\"ticks\":\"\"},\"bgcolor\":\"#E5ECF6\",\"caxis\":{\"gridcolor\":\"white\",\"linecolor\":\"white\",\"ticks\":\"\"}},\"title\":{\"x\":0.05},\"xaxis\":{\"automargin\":true,\"gridcolor\":\"white\",\"linecolor\":\"white\",\"ticks\":\"\",\"title\":{\"standoff\":15},\"zerolinecolor\":\"white\",\"zerolinewidth\":2},\"yaxis\":{\"automargin\":true,\"gridcolor\":\"white\",\"linecolor\":\"white\",\"ticks\":\"\",\"title\":{\"standoff\":15},\"zerolinecolor\":\"white\",\"zerolinewidth\":2}}},\"xaxis\":{\"dtick\":10,\"tickangle\":90,\"tickfont\":{\"size\":10},\"tickmode\":\"array\",\"ticktext\":[\"2022-12-22 20:00:00\",\"2022-12-22 19:55:00\",\"2022-12-22 19:50:00\",\"2022-12-22 19:45:00\",\"2022-12-22 19:40:00\",\"2022-12-22 19:35:00\",\"2022-12-22 19:30:00\",\"2022-12-22 19:25:00\",\"2022-12-22 19:20:00\",\"2022-12-22 19:15:00\",\"2022-12-22 19:05:00\",\"2022-12-22 19:00:00\",\"2022-12-22 18:55:00\",\"2022-12-22 18:50:00\",\"2022-12-22 18:45:00\",\"2022-12-22 18:40:00\",\"2022-12-22 18:35:00\",\"2022-12-22 18:30:00\",\"2022-12-22 18:25:00\",\"2022-12-22 18:20:00\",\"2022-12-22 18:15:00\",\"2022-12-22 18:10:00\",\"2022-12-22 18:05:00\",\"2022-12-22 18:00:00\",\"2022-12-22 17:55:00\",\"2022-12-22 17:50:00\",\"2022-12-22 17:45:00\",\"2022-12-22 17:40:00\",\"2022-12-22 17:35:00\",\"2022-12-22 17:30:00\",\"2022-12-22 17:25:00\",\"2022-12-22 17:20:00\",\"2022-12-22 17:15:00\",\"2022-12-22 17:10:00\",\"2022-12-22 17:05:00\",\"2022-12-22 17:00:00\",\"2022-12-22 16:55:00\",\"2022-12-22 16:50:00\",\"2022-12-22 16:45:00\",\"2022-12-22 16:40:00\",\"2022-12-22 16:35:00\",\"2022-12-22 16:30:00\",\"2022-12-22 16:25:00\",\"2022-12-22 16:20:00\",\"2022-12-22 16:15:00\",\"2022-12-22 16:10:00\",\"2022-12-22 16:05:00\",\"2022-12-22 16:00:00\",\"2022-12-22 15:55:00\",\"2022-12-22 15:50:00\",\"2022-12-22 15:45:00\",\"2022-12-22 15:40:00\",\"2022-12-22 15:35:00\",\"2022-12-22 15:30:00\",\"2022-12-22 15:25:00\",\"2022-12-22 15:20:00\",\"2022-12-22 15:15:00\",\"2022-12-22 15:10:00\",\"2022-12-22 15:05:00\",\"2022-12-22 15:00:00\",\"2022-12-22 14:55:00\",\"2022-12-22 14:50:00\",\"2022-12-22 14:45:00\",\"2022-12-22 14:40:00\",\"2022-12-22 14:35:00\",\"2022-12-22 14:30:00\",\"2022-12-22 14:25:00\",\"2022-12-22 14:20:00\",\"2022-12-22 14:15:00\",\"2022-12-22 14:10:00\",\"2022-12-22 14:05:00\",\"2022-12-22 14:00:00\",\"2022-12-22 13:55:00\",\"2022-12-22 13:50:00\",\"2022-12-22 13:45:00\",\"2022-12-22 13:40:00\",\"2022-12-22 13:35:00\",\"2022-12-22 13:30:00\",\"2022-12-22 13:25:00\",\"2022-12-22 13:20:00\",\"2022-12-22 13:15:00\",\"2022-12-22 13:10:00\",\"2022-12-22 13:05:00\",\"2022-12-22 13:00:00\",\"2022-12-22 12:55:00\",\"2022-12-22 12:50:00\",\"2022-12-22 12:45:00\",\"2022-12-22 12:40:00\",\"2022-12-22 12:35:00\",\"2022-12-22 12:30:00\",\"2022-12-22 12:25:00\",\"2022-12-22 12:20:00\",\"2022-12-22 12:15:00\",\"2022-12-22 12:10:00\",\"2022-12-22 12:05:00\",\"2022-12-22 12:00:00\",\"2022-12-22 11:55:00\",\"2022-12-22 11:50:00\",\"2022-12-22 11:45:00\",\"2022-12-22 11:40:00\"],\"tickvals\":[\"2022-12-22 20:00:00\",\"2022-12-22 19:55:00\",\"2022-12-22 19:50:00\",\"2022-12-22 19:45:00\",\"2022-12-22 19:40:00\",\"2022-12-22 19:35:00\",\"2022-12-22 19:30:00\",\"2022-12-22 19:25:00\",\"2022-12-22 19:20:00\",\"2022-12-22 19:15:00\",\"2022-12-22 19:05:00\",\"2022-12-22 19:00:00\",\"2022-12-22 18:55:00\",\"2022-12-22 18:50:00\",\"2022-12-22 18:45:00\",\"2022-12-22 18:40:00\",\"2022-12-22 18:35:00\",\"2022-12-22 18:30:00\",\"2022-12-22 18:25:00\",\"2022-12-22 18:20:00\",\"2022-12-22 18:15:00\",\"2022-12-22 18:10:00\",\"2022-12-22 18:05:00\",\"2022-12-22 18:00:00\",\"2022-12-22 17:55:00\",\"2022-12-22 17:50:00\",\"2022-12-22 17:45:00\",\"2022-12-22 17:40:00\",\"2022-12-22 17:35:00\",\"2022-12-22 17:30:00\",\"2022-12-22 17:25:00\",\"2022-12-22 17:20:00\",\"2022-12-22 17:15:00\",\"2022-12-22 17:10:00\",\"2022-12-22 17:05:00\",\"2022-12-22 17:00:00\",\"2022-12-22 16:55:00\",\"2022-12-22 16:50:00\",\"2022-12-22 16:45:00\",\"2022-12-22 16:40:00\",\"2022-12-22 16:35:00\",\"2022-12-22 16:30:00\",\"2022-12-22 16:25:00\",\"2022-12-22 16:20:00\",\"2022-12-22 16:15:00\",\"2022-12-22 16:10:00\",\"2022-12-22 16:05:00\",\"2022-12-22 16:00:00\",\"2022-12-22 15:55:00\",\"2022-12-22 15:50:00\",\"2022-12-22 15:45:00\",\"2022-12-22 15:40:00\",\"2022-12-22 15:35:00\",\"2022-12-22 15:30:00\",\"2022-12-22 15:25:00\",\"2022-12-22 15:20:00\",\"2022-12-22 15:15:00\",\"2022-12-22 15:10:00\",\"2022-12-22 15:05:00\",\"2022-12-22 15:00:00\",\"2022-12-22 14:55:00\",\"2022-12-22 14:50:00\",\"2022-12-22 14:45:00\",\"2022-12-22 14:40:00\",\"2022-12-22 14:35:00\",\"2022-12-22 14:30:00\",\"2022-12-22 14:25:00\",\"2022-12-22 14:20:00\",\"2022-12-22 14:15:00\",\"2022-12-22 14:10:00\",\"2022-12-22 14:05:00\",\"2022-12-22 14:00:00\",\"2022-12-22 13:55:00\",\"2022-12-22 13:50:00\",\"2022-12-22 13:45:00\",\"2022-12-22 13:40:00\",\"2022-12-22 13:35:00\",\"2022-12-22 13:30:00\",\"2022-12-22 13:25:00\",\"2022-12-22 13:20:00\",\"2022-12-22 13:15:00\",\"2022-12-22 13:10:00\",\"2022-12-22 13:05:00\",\"2022-12-22 13:00:00\",\"2022-12-22 12:55:00\",\"2022-12-22 12:50:00\",\"2022-12-22 12:45:00\",\"2022-12-22 12:40:00\",\"2022-12-22 12:35:00\",\"2022-12-22 12:30:00\",\"2022-12-22 12:25:00\",\"2022-12-22 12:20:00\",\"2022-12-22 12:15:00\",\"2022-12-22 12:10:00\",\"2022-12-22 12:05:00\",\"2022-12-22 12:00:00\",\"2022-12-22 11:55:00\",\"2022-12-22 11:50:00\",\"2022-12-22 11:45:00\",\"2022-12-22 11:40:00\"]}},                        {\"responsive\": true}                    ).then(function(){\n",
       "                            \n",
       "var gd = document.getElementById('9eb3be23-3936-4886-a2c5-c828ff7cd2c8');\n",
       "var x = new MutationObserver(function (mutations, observer) {{\n",
       "        var display = window.getComputedStyle(gd).display;\n",
       "        if (!display || display === 'none') {{\n",
       "            console.log([gd, 'removed!']);\n",
       "            Plotly.purge(gd);\n",
       "            observer.disconnect();\n",
       "        }}\n",
       "}});\n",
       "\n",
       "// Listen for the removal of the full notebook cells\n",
       "var notebookContainer = gd.closest('#notebook-container');\n",
       "if (notebookContainer) {{\n",
       "    x.observe(notebookContainer, {childList: true});\n",
       "}}\n",
       "\n",
       "// Listen for the clearing of the current output cell\n",
       "var outputEl = gd.closest('.output');\n",
       "if (outputEl) {{\n",
       "    x.observe(outputEl, {childList: true});\n",
       "}}\n",
       "\n",
       "                        })                };                });            </script>        </div>"
      ]
     },
     "metadata": {},
     "output_type": "display_data"
    }
   ],
   "source": [
    "#Plot a candlestick chart of ‘df and ‘indicator’ using the plot_strategy method on the strategy instance\n",
    "strategy.plot_strategy()"
   ]
  }
 ],
 "metadata": {
  "kernelspec": {
   "display_name": "Python 3",
   "language": "python",
   "name": "python3"
  },
  "language_info": {
   "codemirror_mode": {
    "name": "ipython",
    "version": 3
   },
   "file_extension": ".py",
   "mimetype": "text/x-python",
   "name": "python",
   "nbconvert_exporter": "python",
   "pygments_lexer": "ipython3",
   "version": "3.11.0"
  },
  "orig_nbformat": 4,
  "vscode": {
   "interpreter": {
    "hash": "d7aab14cd6a977b53d4f1acb8cb6fab4f6362540f0131061d45318d9c7728500"
   }
  }
 },
 "nbformat": 4,
 "nbformat_minor": 2
}
